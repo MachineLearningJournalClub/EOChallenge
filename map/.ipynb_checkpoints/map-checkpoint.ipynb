{
 "cells": [
  {
   "cell_type": "markdown",
   "metadata": {},
   "source": [
    "# Map Visualization #"
   ]
  },
  {
   "cell_type": "markdown",
   "metadata": {},
   "source": [
    "In order to visualise the results we got, we decided to create a map using a python library called folium"
   ]
  },
  {
   "cell_type": "code",
   "execution_count": 17,
   "metadata": {},
   "outputs": [],
   "source": [
    "import folium\n",
    "import os\n",
    "import json\n",
    "import pandas as pd\n",
    "import pickle\n",
    "import base64\n",
    "from folium import IFrame\n",
    "from os import listdir\n",
    "from os.path import isfile, join"
   ]
  },
  {
   "cell_type": "code",
   "execution_count": 18,
   "metadata": {},
   "outputs": [],
   "source": [
    "m = folium.Map(location=[42.3601, -71.0589], zoom_start=3)"
   ]
  },
  {
   "cell_type": "code",
   "execution_count": 19,
   "metadata": {},
   "outputs": [],
   "source": [
    "# Importing the countries file that contains the borders coordinates\n",
    "states = os.path.join('../notebooks', 'countries.json')"
   ]
  },
  {
   "cell_type": "markdown",
   "metadata": {},
   "source": [
    "Since we want to visualise the data we collected, we need to import the required csv files with the datasets."
   ]
  },
  {
   "cell_type": "code",
   "execution_count": 20,
   "metadata": {},
   "outputs": [],
   "source": [
    "CH4_data = pd.read_csv(os.path.join('../notebooks/data/csv/', 'CH4.csv'))\n",
    "O3_data = pd.read_csv(os.path.join('../notebooks/data/csv/', 'O3.csv'))\n",
    "NO2_data = pd.read_csv(os.path.join('../notebooks/data/csv/', 'NO2.csv'))\n",
    "CO_data = pd.read_csv(os.path.join('../notebooks/data/csv/', 'CO.csv'))\n",
    "SO2_data = pd.read_csv(os.path.join('../notebooks/data/csv/', 'SO2.csv'))\n",
    "index_data = pd.read_csv(os.path.join('../notebooks/data/csv/', 'cluster_9_5000.csv'))"
   ]
  },
  {
   "cell_type": "markdown",
   "metadata": {},
   "source": [
    "We create the choropleth with the indicators to add in the map"
   ]
  },
  {
   "cell_type": "code",
   "execution_count": 21,
   "metadata": {},
   "outputs": [
    {
     "data": {
      "text/plain": [
       "<folium.features.Choropleth at 0x7fc732753790>"
      ]
     },
     "execution_count": 21,
     "metadata": {},
     "output_type": "execute_result"
    }
   ],
   "source": [
    "folium.Choropleth(\n",
    "    geo_data=states,\n",
    "    name='CH4',\n",
    "    data=CH4_data,\n",
    "    columns=['Country', 'CH4'],\n",
    "    key_on='feature.id',\n",
    "    fill_color='PuBuGn',\n",
    "    fill_opacity=0.7,\n",
    "    line_opacity=0.2,\n",
    "    legend_name='Index CH4 [parts per billion]',\n",
    "    show=False\n",
    ").add_to(m)\n",
    "\n",
    "folium.Choropleth(\n",
    "    geo_data=states,\n",
    "    name='O3',\n",
    "    data=O3_data,\n",
    "    columns=['Country', 'O3'],\n",
    "    key_on='feature.id',\n",
    "    fill_color='PuRd',\n",
    "    fill_opacity=0.7,\n",
    "    line_opacity=0.2,\n",
    "    legend_name='Index CH4 [mol/m^2]',\n",
    "    show=False\n",
    ").add_to(m)\n",
    "\n",
    "folium.Choropleth(\n",
    "    geo_data=states,\n",
    "    name='NO2',\n",
    "    data=NO2_data,\n",
    "    columns=['Country', 'NO2'],\n",
    "    key_on='feature.id',\n",
    "    fill_color='YlOrBr',\n",
    "    fill_opacity=0.7,\n",
    "    line_opacity=0.2,\n",
    "    legend_name='Index CH4 [mol/m^2]',\n",
    "    show=False\n",
    ").add_to(m)\n",
    "\n",
    "folium.Choropleth(\n",
    "    geo_data=states,\n",
    "    name='CO',\n",
    "    data=CO_data,\n",
    "    columns=['Country', 'CO'],\n",
    "    key_on='feature.id',\n",
    "    fill_color='OrRd',\n",
    "    fill_opacity=0.7,\n",
    "    line_opacity=0.2,\n",
    "    legend_name='Index CH4 [mol/m^2]',\n",
    "    show=False\n",
    ").add_to(m)\n",
    "\n",
    "folium.Choropleth(\n",
    "    geo_data=states,\n",
    "    name='SO2',\n",
    "    data=SO2_data,\n",
    "    columns=['Country', 'SO2'],\n",
    "    key_on='feature.id',\n",
    "    fill_color='YlGn',\n",
    "    fill_opacity=0.7,\n",
    "    line_opacity=0.2,\n",
    "    legend_name='Index CH4 [mol/m^2]',\n",
    "    show=False\n",
    ").add_to(m)\n",
    "\n",
    "folium.Choropleth(\n",
    "    geo_data=states,\n",
    "    name='new index',\n",
    "    data=index_data,\n",
    "    columns=['State', 'cluster'],\n",
    "    key_on='feature.id',\n",
    "    fill_color='PuBu',\n",
    "    fill_opacity=0.7,\n",
    "    line_opacity=0.2,\n",
    "    legend_name='New Index'\n",
    ").add_to(m)"
   ]
  },
  {
   "cell_type": "code",
   "execution_count": 22,
   "metadata": {},
   "outputs": [
    {
     "data": {
      "text/plain": [
       "<folium.map.LayerControl at 0x7fc733b4f1d0>"
      ]
     },
     "execution_count": 22,
     "metadata": {},
     "output_type": "execute_result"
    }
   ],
   "source": [
    "f=open(states)\n",
    "data=json.load(f)\n",
    "# Load the images' names present in the img folder\n",
    "onlyfiles = [f for f in listdir('img/') if isfile(join('img/', f))]\n",
    "# if on Mac, we need to remove the ds_store file from the list\n",
    "onlyfiles.remove('.DS_Store')\n",
    "\n",
    "for file in onlyfiles:\n",
    "    # Extract the file name and create the image directory\n",
    "    name=file.replace('.png','')\n",
    "    png = 'img/'+name+'.png'\n",
    "    # Since we want to add png images we need to encode them in order to be readable from the html\n",
    "    encoded = base64.b64encode(open(png, 'rb').read())\n",
    "    iframe = IFrame(html=(encoded.decode('UTF-8')), width=1188, height=500)\n",
    "    popup = folium.Popup(iframe, max_width=3000)\n",
    "    # For each country we add the required image\n",
    "    for i in range(0, len(data['features'])):\n",
    "        if data['features'][i]['id']==name:\n",
    "            # If the country has islands or multiple pieces we create different popups \n",
    "            if len(data['features'][i]['geometry']['coordinates'])>1:\n",
    "                for a in range(0,len(data['features'][i]['geometry']['coordinates'])):\n",
    "                    gj = folium.GeoJson(data={\"type\": \"Polygon\", \"coordinates\":data['features'][i]['geometry']['coordinates'][a]},control=False)\n",
    "                    gj.add_child(folium.Popup(iframe, max_width=3000))\n",
    "                    gj.add_to(m)\n",
    "            else:\n",
    "                gj = folium.GeoJson(data={\"type\": \"Polygon\", \"coordinates\":data['features'][i]['geometry']['coordinates']},control=False)\n",
    "                gj.add_child(folium.Popup(iframe, max_width=3000))\n",
    "                gj.add_to(m)\n",
    "\n",
    "folium.LayerControl().add_to(m)\n"
   ]
  },
  {
   "cell_type": "code",
   "execution_count": 23,
   "metadata": {},
   "outputs": [],
   "source": [
    "m.save('map.html')"
   ]
  }
 ],
 "metadata": {
  "kernelspec": {
   "display_name": "Python 3",
   "language": "python",
   "name": "python3"
  },
  "language_info": {
   "codemirror_mode": {
    "name": "ipython",
    "version": 3
   },
   "file_extension": ".py",
   "mimetype": "text/x-python",
   "name": "python",
   "nbconvert_exporter": "python",
   "pygments_lexer": "ipython3",
   "version": "3.7.6"
  }
 },
 "nbformat": 4,
 "nbformat_minor": 4
}
