{
 "cells": [
  {
   "cell_type": "code",
   "execution_count": 36,
   "id": "c006c787-683c-49fe-b36f-d6f8dc5edd4e",
   "metadata": {},
   "outputs": [
    {
     "name": "stdout",
     "output_type": "stream",
     "text": [
      "AFG\n"
     ]
    }
   ],
   "source": [
    "import json\n",
    "import geojson\n",
    "import shapely.wkt\n",
    "from shapely import geometry\n",
    "from xcube.core.geom import mask_dataset_by_geometry\n",
    "import shapely.geometry\n",
    "import IPython.display\n",
    "f=open('countries.json')\n",
    "data=json.load(f)\n",
    "print(data['features'][0]['id'])\n",
    "final=dict()\n",
    "for i in range(0,len(data['features'])):\n",
    "    #print(data['features'][i]['id'])\n",
    "    final[data['features'][i]['id']]=data['features'][i]['geometry']['coordinates']"
   ]
  },
  {
   "cell_type": "code",
   "execution_count": 9,
   "id": "54fa96f5-62a6-43a5-80a5-e0e563f43115",
   "metadata": {},
   "outputs": [],
   "source": [
    "germany=geometry.Polygon(final['DEU'][0])"
   ]
  },
  {
   "cell_type": "code",
   "execution_count": 18,
   "id": "e5d6f1d1-f4e1-4adc-905f-c5bf46c60b31",
   "metadata": {},
   "outputs": [],
   "source": [
    "italy=geometry.Polygon(final['ITA'][2][0])"
   ]
  },
  {
   "cell_type": "code",
   "execution_count": 10,
   "id": "2d3ed205-524e-4ef2-a2fd-ec1af205116d",
   "metadata": {
    "tags": []
   },
   "outputs": [],
   "source": [
    "germany_area = shapely.wkt.loads(germany.wkt)\n",
    "germany_gj = geojson.Feature(geometry=germany_area, properties={})"
   ]
  },
  {
   "cell_type": "code",
   "execution_count": 19,
   "id": "50323c4d-fb45-4674-bfdd-62c27e7c2dda",
   "metadata": {},
   "outputs": [],
   "source": [
    "italy_area = shapely.wkt.loads(italy.wkt)\n",
    "italy_gj = geojson.Feature(geometry=italy_area, properties={})"
   ]
  },
  {
   "cell_type": "code",
   "execution_count": 12,
   "id": "96b78554-7f39-4cc1-813c-067ae798c5f2",
   "metadata": {},
   "outputs": [
    {
     "data": {
      "application/geo+json": {
       "geometry": {
        "coordinates": [
         [
          [
           9.921906,
           54.983104
          ],
          [
           9.93958,
           54.596642
          ],
          [
           10.950112,
           54.363607
          ],
          [
           10.939467,
           54.008693
          ],
          [
           11.956252,
           54.196486
          ],
          [
           12.51844,
           54.470371
          ],
          [
           13.647467,
           54.075511
          ],
          [
           14.119686,
           53.757029
          ],
          [
           14.353315,
           53.248171
          ],
          [
           14.074521,
           52.981263
          ],
          [
           14.4376,
           52.62485
          ],
          [
           14.685026,
           52.089947
          ],
          [
           14.607098,
           51.745188
          ],
          [
           15.016996,
           51.106674
          ],
          [
           14.570718,
           51.002339
          ],
          [
           14.307013,
           51.117268
          ],
          [
           14.056228,
           50.926918
          ],
          [
           13.338132,
           50.733234
          ],
          [
           12.966837,
           50.484076
          ],
          [
           12.240111,
           50.266338
          ],
          [
           12.415191,
           49.969121
          ],
          [
           12.521024,
           49.547415
          ],
          [
           13.031329,
           49.307068
          ],
          [
           13.595946,
           48.877172
          ],
          [
           13.243357,
           48.416115
          ],
          [
           12.884103,
           48.289146
          ],
          [
           13.025851,
           47.637584
          ],
          [
           12.932627,
           47.467646
          ],
          [
           12.62076,
           47.672388
          ],
          [
           12.141357,
           47.703083
          ],
          [
           11.426414,
           47.523766
          ],
          [
           10.544504,
           47.566399
          ],
          [
           10.402084,
           47.302488
          ],
          [
           9.896068,
           47.580197
          ],
          [
           9.594226,
           47.525058
          ],
          [
           8.522612,
           47.830828
          ],
          [
           8.317301,
           47.61358
          ],
          [
           7.466759,
           47.620582
          ],
          [
           7.593676,
           48.333019
          ],
          [
           8.099279,
           49.017784
          ],
          [
           6.65823,
           49.201958
          ],
          [
           6.18632,
           49.463803
          ],
          [
           6.242751,
           49.902226
          ],
          [
           6.043073,
           50.128052
          ],
          [
           6.156658,
           50.803721
          ],
          [
           5.988658,
           51.851616
          ],
          [
           6.589397,
           51.852029
          ],
          [
           6.84287,
           52.22844
          ],
          [
           7.092053,
           53.144043
          ],
          [
           6.90514,
           53.482162
          ],
          [
           7.100425,
           53.693932
          ],
          [
           7.936239,
           53.748296
          ],
          [
           8.121706,
           53.527792
          ],
          [
           8.800734,
           54.020786
          ],
          [
           8.572118,
           54.395646
          ],
          [
           8.526229,
           54.962744
          ],
          [
           9.282049,
           54.830865
          ],
          [
           9.921906,
           54.983104
          ]
         ]
        ],
        "type": "Polygon"
       },
       "properties": {},
       "type": "Feature"
      },
      "text/plain": [
       "<IPython.display.GeoJSON object>"
      ]
     },
     "metadata": {
      "application/geo+json": {
       "expanded": false,
       "root": "root"
      }
     },
     "output_type": "display_data"
    }
   ],
   "source": [
    "IPython.display.GeoJSON(germany_gj)"
   ]
  },
  {
   "cell_type": "code",
   "execution_count": 20,
   "id": "6794b385-8408-46b9-87ef-7fc15a48580c",
   "metadata": {},
   "outputs": [
    {
     "data": {
      "application/geo+json": {
       "geometry": {
        "coordinates": [
         [
          [
           12.376485,
           46.767559
          ],
          [
           13.806475,
           46.509306
          ],
          [
           13.69811,
           46.016778
          ],
          [
           13.93763,
           45.591016
          ],
          [
           13.141606,
           45.736692
          ],
          [
           12.328581,
           45.381778
          ],
          [
           12.383875,
           44.885374
          ],
          [
           12.261453,
           44.600482
          ],
          [
           12.589237,
           44.091366
          ],
          [
           13.526906,
           43.587727
          ],
          [
           14.029821,
           42.761008
          ],
          [
           15.14257,
           41.95514
          ],
          [
           15.926191,
           41.961315
          ],
          [
           16.169897,
           41.740295
          ],
          [
           15.889346,
           41.541082
          ],
          [
           16.785002,
           41.179606
          ],
          [
           17.519169,
           40.877143
          ],
          [
           18.376687,
           40.355625
          ],
          [
           18.480247,
           40.168866
          ],
          [
           18.293385,
           39.810774
          ],
          [
           17.73838,
           40.277671
          ],
          [
           16.869596,
           40.442235
          ],
          [
           16.448743,
           39.795401
          ],
          [
           17.17149,
           39.4247
          ],
          [
           17.052841,
           38.902871
          ],
          [
           16.635088,
           38.843572
          ],
          [
           16.100961,
           37.985899
          ],
          [
           15.684087,
           37.908849
          ],
          [
           15.687963,
           38.214593
          ],
          [
           15.891981,
           38.750942
          ],
          [
           16.109332,
           38.964547
          ],
          [
           15.718814,
           39.544072
          ],
          [
           15.413613,
           40.048357
          ],
          [
           14.998496,
           40.172949
          ],
          [
           14.703268,
           40.60455
          ],
          [
           14.060672,
           40.786348
          ],
          [
           13.627985,
           41.188287
          ],
          [
           12.888082,
           41.25309
          ],
          [
           12.106683,
           41.704535
          ],
          [
           11.191906,
           42.355425
          ],
          [
           10.511948,
           42.931463
          ],
          [
           10.200029,
           43.920007
          ],
          [
           9.702488,
           44.036279
          ],
          [
           8.888946,
           44.366336
          ],
          [
           8.428561,
           44.231228
          ],
          [
           7.850767,
           43.767148
          ],
          [
           7.435185,
           43.693845
          ],
          [
           7.549596,
           44.127901
          ],
          [
           7.007562,
           44.254767
          ],
          [
           6.749955,
           45.028518
          ],
          [
           7.096652,
           45.333099
          ],
          [
           6.802355,
           45.70858
          ],
          [
           6.843593,
           45.991147
          ],
          [
           7.273851,
           45.776948
          ],
          [
           7.755992,
           45.82449
          ],
          [
           8.31663,
           46.163642
          ],
          [
           8.489952,
           46.005151
          ],
          [
           8.966306,
           46.036932
          ],
          [
           9.182882,
           46.440215
          ],
          [
           9.922837,
           46.314899
          ],
          [
           10.363378,
           46.483571
          ],
          [
           10.442701,
           46.893546
          ],
          [
           11.048556,
           46.751359
          ],
          [
           11.164828,
           46.941579
          ],
          [
           12.153088,
           47.115393
          ],
          [
           12.376485,
           46.767559
          ]
         ]
        ],
        "type": "Polygon"
       },
       "properties": {},
       "type": "Feature"
      },
      "text/plain": [
       "<IPython.display.GeoJSON object>"
      ]
     },
     "metadata": {
      "application/geo+json": {
       "expanded": false,
       "root": "root"
      }
     },
     "output_type": "display_data"
    }
   ],
   "source": [
    "IPython.display.GeoJSON(italy_gj)"
   ]
  },
  {
   "cell_type": "code",
   "execution_count": 21,
   "id": "a668f663-0163-4f5c-98b9-81eaffac3e9e",
   "metadata": {},
   "outputs": [],
   "source": [
    "from xcube_sh.config import CubeConfig\n",
    "from xcube_sh.cube import open_cube\n",
    "from xcube_sh.sentinelhub import SentinelHub\n",
    "import xarray as xr\n",
    "\n",
    "from sentinelhub import BBox, WmsRequest, DataSource, SHConfig\n",
    "from functools import partial\n",
    "\n",
    "import numpy as np\n",
    "import pandas as pd\n",
    "\n",
    "from matplotlib import pyplot as plt"
   ]
  },
  {
   "cell_type": "code",
   "execution_count": 23,
   "id": "2084343a-eebc-45f1-a512-04901614968a",
   "metadata": {},
   "outputs": [],
   "source": [
    "# Set Sentinel Hub credentials\n",
    "\n",
    "import os\n",
    "sh_credentials = dict(client_id=os.environ['SH_CLIENT_ID'],\n",
    "                      client_secret=os.environ['SH_CLIENT_SECRET']) # This is only provided when the Oauth credentials are created\n",
    "\n",
    "# Sentinel-3 OLCI, Sentinel-3 SLSTR and Sentinel-5 layers are processed on different infrastructure, \n",
    "# which requires to used different end-point\n",
    "\n",
    "sh_credentials.update(api_url='https://creodias.sentinel-hub.com') "
   ]
  },
  {
   "cell_type": "code",
   "execution_count": null,
   "id": "ed7f237d-73d6-4c98-a0cc-6cf2f6991c6d",
   "metadata": {},
   "outputs": [],
   "source": []
  },
  {
   "cell_type": "code",
   "execution_count": null,
   "id": "582c2394-73e8-4879-9178-dec2ec351722",
   "metadata": {},
   "outputs": [],
   "source": []
  },
  {
   "cell_type": "code",
   "execution_count": null,
   "id": "2172b921-c8c0-419a-a3c3-9a592b5819bc",
   "metadata": {},
   "outputs": [],
   "source": []
  }
 ],
 "metadata": {
  "kernelspec": {
   "display_name": "EDC 0.24.5 (Python3)",
   "language": "python",
   "name": "edc"
  },
  "language_info": {
   "codemirror_mode": {
    "name": "ipython",
    "version": 3
   },
   "file_extension": ".py",
   "mimetype": "text/x-python",
   "name": "python",
   "nbconvert_exporter": "python",
   "pygments_lexer": "ipython3",
   "version": "3.8.10"
  }
 },
 "nbformat": 4,
 "nbformat_minor": 5
}
