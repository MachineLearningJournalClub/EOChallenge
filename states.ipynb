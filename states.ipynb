{
 "cells": [
  {
   "cell_type": "code",
   "execution_count": 1,
   "id": "c006c787-683c-49fe-b36f-d6f8dc5edd4e",
   "metadata": {},
   "outputs": [],
   "source": [
    "import json\n",
    "import geojson\n",
    "import shapely.wkt\n",
    "from shapely import geometry\n",
    "from xcube.core.geom import mask_dataset_by_geometry\n",
    "import shapely.geometry\n",
    "import IPython.display"
   ]
  },
  {
   "cell_type": "code",
   "execution_count": 2,
   "id": "210c4179-9adf-46d3-852e-06a332855402",
   "metadata": {},
   "outputs": [
    {
     "name": "stdout",
     "output_type": "stream",
     "text": [
      "AFG\n"
     ]
    }
   ],
   "source": [
    "f=open('countries.json')\n",
    "data=json.load(f)\n",
    "print(data['features'][0]['id'])\n",
    "final=dict()\n",
    "for i in range(0,len(data['features'])):\n",
    "    #print(data['features'][i]['id'])\n",
    "    final[data['features'][i]['id']]=data['features'][i]['geometry']['coordinates']"
   ]
  },
  {
   "cell_type": "code",
   "execution_count": 12,
   "id": "54fa96f5-62a6-43a5-80a5-e0e563f43115",
   "metadata": {},
   "outputs": [],
   "source": [
    "germany=geometry.Polygon(final['DEU'][0])"
   ]
  },
  {
   "cell_type": "code",
   "execution_count": 18,
   "id": "e5d6f1d1-f4e1-4adc-905f-c5bf46c60b31",
   "metadata": {},
   "outputs": [],
   "source": [
    "italy=geometry.Polygon(final['ITA'][2][0])"
   ]
  },
  {
   "cell_type": "code",
   "execution_count": 10,
   "id": "2d3ed205-524e-4ef2-a2fd-ec1af205116d",
   "metadata": {
    "tags": []
   },
   "outputs": [],
   "source": [
    "germany_area = shapely.wkt.loads(germany.wkt)\n",
    "germany_gj = geojson.Feature(geometry=germany_area, properties={})"
   ]
  },
  {
   "cell_type": "code",
   "execution_count": 19,
   "id": "50323c4d-fb45-4674-bfdd-62c27e7c2dda",
   "metadata": {},
   "outputs": [],
   "source": [
    "italy_area = shapely.wkt.loads(italy.wkt)\n",
    "italy_gj = geojson.Feature(geometry=italy_area, properties={})"
   ]
  },
  {
   "cell_type": "code",
   "execution_count": 12,
   "id": "96b78554-7f39-4cc1-813c-067ae798c5f2",
   "metadata": {},
   "outputs": [
    {
     "data": {
      "application/geo+json": {
       "geometry": {
        "coordinates": [
         [
          [
           9.921906,
           54.983104
          ],
          [
           9.93958,
           54.596642
          ],
          [
           10.950112,
           54.363607
          ],
          [
           10.939467,
           54.008693
          ],
          [
           11.956252,
           54.196486
          ],
          [
           12.51844,
           54.470371
          ],
          [
           13.647467,
           54.075511
          ],
          [
           14.119686,
           53.757029
          ],
          [
           14.353315,
           53.248171
          ],
          [
           14.074521,
           52.981263
          ],
          [
           14.4376,
           52.62485
          ],
          [
           14.685026,
           52.089947
          ],
          [
           14.607098,
           51.745188
          ],
          [
           15.016996,
           51.106674
          ],
          [
           14.570718,
           51.002339
          ],
          [
           14.307013,
           51.117268
          ],
          [
           14.056228,
           50.926918
          ],
          [
           13.338132,
           50.733234
          ],
          [
           12.966837,
           50.484076
          ],
          [
           12.240111,
           50.266338
          ],
          [
           12.415191,
           49.969121
          ],
          [
           12.521024,
           49.547415
          ],
          [
           13.031329,
           49.307068
          ],
          [
           13.595946,
           48.877172
          ],
          [
           13.243357,
           48.416115
          ],
          [
           12.884103,
           48.289146
          ],
          [
           13.025851,
           47.637584
          ],
          [
           12.932627,
           47.467646
          ],
          [
           12.62076,
           47.672388
          ],
          [
           12.141357,
           47.703083
          ],
          [
           11.426414,
           47.523766
          ],
          [
           10.544504,
           47.566399
          ],
          [
           10.402084,
           47.302488
          ],
          [
           9.896068,
           47.580197
          ],
          [
           9.594226,
           47.525058
          ],
          [
           8.522612,
           47.830828
          ],
          [
           8.317301,
           47.61358
          ],
          [
           7.466759,
           47.620582
          ],
          [
           7.593676,
           48.333019
          ],
          [
           8.099279,
           49.017784
          ],
          [
           6.65823,
           49.201958
          ],
          [
           6.18632,
           49.463803
          ],
          [
           6.242751,
           49.902226
          ],
          [
           6.043073,
           50.128052
          ],
          [
           6.156658,
           50.803721
          ],
          [
           5.988658,
           51.851616
          ],
          [
           6.589397,
           51.852029
          ],
          [
           6.84287,
           52.22844
          ],
          [
           7.092053,
           53.144043
          ],
          [
           6.90514,
           53.482162
          ],
          [
           7.100425,
           53.693932
          ],
          [
           7.936239,
           53.748296
          ],
          [
           8.121706,
           53.527792
          ],
          [
           8.800734,
           54.020786
          ],
          [
           8.572118,
           54.395646
          ],
          [
           8.526229,
           54.962744
          ],
          [
           9.282049,
           54.830865
          ],
          [
           9.921906,
           54.983104
          ]
         ]
        ],
        "type": "Polygon"
       },
       "properties": {},
       "type": "Feature"
      },
      "text/plain": [
       "<IPython.display.GeoJSON object>"
      ]
     },
     "metadata": {
      "application/geo+json": {
       "expanded": false,
       "root": "root"
      }
     },
     "output_type": "display_data"
    }
   ],
   "source": [
    "IPython.display.GeoJSON(germany_gj)"
   ]
  },
  {
   "cell_type": "code",
   "execution_count": 20,
   "id": "6794b385-8408-46b9-87ef-7fc15a48580c",
   "metadata": {},
   "outputs": [
    {
     "data": {
      "application/geo+json": {
       "geometry": {
        "coordinates": [
         [
          [
           12.376485,
           46.767559
          ],
          [
           13.806475,
           46.509306
          ],
          [
           13.69811,
           46.016778
          ],
          [
           13.93763,
           45.591016
          ],
          [
           13.141606,
           45.736692
          ],
          [
           12.328581,
           45.381778
          ],
          [
           12.383875,
           44.885374
          ],
          [
           12.261453,
           44.600482
          ],
          [
           12.589237,
           44.091366
          ],
          [
           13.526906,
           43.587727
          ],
          [
           14.029821,
           42.761008
          ],
          [
           15.14257,
           41.95514
          ],
          [
           15.926191,
           41.961315
          ],
          [
           16.169897,
           41.740295
          ],
          [
           15.889346,
           41.541082
          ],
          [
           16.785002,
           41.179606
          ],
          [
           17.519169,
           40.877143
          ],
          [
           18.376687,
           40.355625
          ],
          [
           18.480247,
           40.168866
          ],
          [
           18.293385,
           39.810774
          ],
          [
           17.73838,
           40.277671
          ],
          [
           16.869596,
           40.442235
          ],
          [
           16.448743,
           39.795401
          ],
          [
           17.17149,
           39.4247
          ],
          [
           17.052841,
           38.902871
          ],
          [
           16.635088,
           38.843572
          ],
          [
           16.100961,
           37.985899
          ],
          [
           15.684087,
           37.908849
          ],
          [
           15.687963,
           38.214593
          ],
          [
           15.891981,
           38.750942
          ],
          [
           16.109332,
           38.964547
          ],
          [
           15.718814,
           39.544072
          ],
          [
           15.413613,
           40.048357
          ],
          [
           14.998496,
           40.172949
          ],
          [
           14.703268,
           40.60455
          ],
          [
           14.060672,
           40.786348
          ],
          [
           13.627985,
           41.188287
          ],
          [
           12.888082,
           41.25309
          ],
          [
           12.106683,
           41.704535
          ],
          [
           11.191906,
           42.355425
          ],
          [
           10.511948,
           42.931463
          ],
          [
           10.200029,
           43.920007
          ],
          [
           9.702488,
           44.036279
          ],
          [
           8.888946,
           44.366336
          ],
          [
           8.428561,
           44.231228
          ],
          [
           7.850767,
           43.767148
          ],
          [
           7.435185,
           43.693845
          ],
          [
           7.549596,
           44.127901
          ],
          [
           7.007562,
           44.254767
          ],
          [
           6.749955,
           45.028518
          ],
          [
           7.096652,
           45.333099
          ],
          [
           6.802355,
           45.70858
          ],
          [
           6.843593,
           45.991147
          ],
          [
           7.273851,
           45.776948
          ],
          [
           7.755992,
           45.82449
          ],
          [
           8.31663,
           46.163642
          ],
          [
           8.489952,
           46.005151
          ],
          [
           8.966306,
           46.036932
          ],
          [
           9.182882,
           46.440215
          ],
          [
           9.922837,
           46.314899
          ],
          [
           10.363378,
           46.483571
          ],
          [
           10.442701,
           46.893546
          ],
          [
           11.048556,
           46.751359
          ],
          [
           11.164828,
           46.941579
          ],
          [
           12.153088,
           47.115393
          ],
          [
           12.376485,
           46.767559
          ]
         ]
        ],
        "type": "Polygon"
       },
       "properties": {},
       "type": "Feature"
      },
      "text/plain": [
       "<IPython.display.GeoJSON object>"
      ]
     },
     "metadata": {
      "application/geo+json": {
       "expanded": false,
       "root": "root"
      }
     },
     "output_type": "display_data"
    }
   ],
   "source": [
    "IPython.display.GeoJSON(italy_gj)"
   ]
  },
  {
   "cell_type": "markdown",
   "id": "f6735952-0af4-4e79-ae69-1e916ece240a",
   "metadata": {},
   "source": [
    "# Working with boxes (per la gioia di andre)"
   ]
  },
  {
   "cell_type": "code",
   "execution_count": 3,
   "id": "6e41a353-78bb-4441-9be1-59a7a4210531",
   "metadata": {},
   "outputs": [],
   "source": [
    "# Import required packages\n",
    "\n",
    "from xcube_sh.config import CubeConfig\n",
    "from xcube_sh.cube import open_cube\n",
    "from xcube_sh.sentinelhub import SentinelHub\n",
    "import xarray as xr\n",
    "\n",
    "from sentinelhub import BBox, WmsRequest, DataSource, SHConfig\n",
    "from functools import partial\n",
    "\n",
    "import numpy as np\n",
    "import pandas as pd\n",
    "\n",
    "from matplotlib import pyplot as plt"
   ]
  },
  {
   "cell_type": "code",
   "execution_count": 4,
   "id": "47a1d42b-67c3-4065-bc0f-0a87e6fe5631",
   "metadata": {},
   "outputs": [],
   "source": [
    "# Set Sentinel Hub credentials\n",
    "\n",
    "import os\n",
    "sh_credentials = dict(client_id=os.environ['SH_CLIENT_ID'],\n",
    "                      client_secret=os.environ['SH_CLIENT_SECRET']) # This is only provided when the Oauth credentials are created\n",
    "\n",
    "# Sentinel-3 OLCI, Sentinel-3 SLSTR and Sentinel-5 layers are processed on different infrastructure, \n",
    "# which requires to used different end-point\n",
    "\n",
    "sh_credentials.update(api_url='https://creodias.sentinel-hub.com') "
   ]
  },
  {
   "cell_type": "code",
   "execution_count": 5,
   "id": "2084343a-eebc-45f1-a512-04901614968a",
   "metadata": {},
   "outputs": [
    {
     "name": "stdout",
     "output_type": "stream",
     "text": [
      "ABW\n"
     ]
    }
   ],
   "source": [
    "\n",
    "f=open('countries_box.json')\n",
    "data=json.load(f)\n",
    "print(data['features'][0]['id'])\n",
    "final=dict()"
   ]
  },
  {
   "cell_type": "markdown",
   "id": "394f523a-3560-4ff1-a570-f56bbab3ce5d",
   "metadata": {},
   "source": [
    "# NO2"
   ]
  },
  {
   "cell_type": "code",
   "execution_count": 6,
   "id": "582c2394-73e8-4879-9178-dec2ec351722",
   "metadata": {},
   "outputs": [],
   "source": [
    "def caculateNO2(geometry, timerange):\n",
    "    \"\"\"\n",
    "    parameters:\n",
    "    geometry: BBox object to be passed. This contains the bounding box for the area of interest (AOI)\n",
    "    timerange: list giving the start & end of the time range format: YYYY-mm-dd\n",
    "    \n",
    "    return:\n",
    "    a dataframe with two columns: Mean NO2 and Timestamp\n",
    "    NO2 mean values for the time span between given timerange \n",
    "    \n",
    "    \"\"\"\n",
    "    cube_config = CubeConfig(dataset_name='S5PL2',\n",
    "                         band_names=['NO2'],\n",
    "                         tile_size=[512, 512],\n",
    "                         geometry=geometry,\n",
    "                         spatial_res=abs(bbox[2]-bbox[0])/512,\n",
    "                         time_range= timerange,\n",
    "                         time_period='3D') \n",
    "    cube = open_cube(cube_config, **sh_credentials)\n",
    "\n",
    "    no2_values = list() \n",
    "    timestamp = list()\n",
    "\n",
    "    for i in range(cube.time.shape[0]):\n",
    "        no2_values.append(np.nanmean(cube.NO2.isel(time=i).values[0]))\n",
    "        timestamp.append(cube.NO2.isel(time=i).time.values)\n",
    "        \n",
    "    assert len(no2_values) == len(timestamp)\n",
    "    \n",
    "    return pd.DataFrame({'DateTime': timestamp, 'Mean NO2': no2_values})"
   ]
  },
  {
   "cell_type": "code",
   "execution_count": 7,
   "id": "4d577070-235d-4069-aa16-1c249c488554",
   "metadata": {},
   "outputs": [],
   "source": [
    "import pandas as pd"
   ]
  },
  {
   "cell_type": "code",
   "execution_count": 7,
   "id": "32c0619e-3a7c-4ca4-81cb-fa3a28bfd094",
   "metadata": {},
   "outputs": [],
   "source": [
    "aoi = pd.DataFrame()\n",
    "for ids in range(0,len(data['features'])):\n",
    "    aoi=aoi.append([ [data['features'][ids]['id'],\n",
    "                    data['features'][ids]['geometry']['sw']['lat'],\n",
    "                    data['features'][ids]['geometry']['sw']['lon'],\n",
    "                    data['features'][ids]['geometry']['ne']['lat'],\n",
    "                    data['features'][ids]['geometry']['ne']['lon']]],ignore_index=True)"
   ]
  },
  {
   "cell_type": "code",
   "execution_count": 8,
   "id": "3dd3879e-a209-4c69-9c3c-778a273e7a44",
   "metadata": {},
   "outputs": [
    {
     "name": "stdout",
     "output_type": "stream",
     "text": [
      "(246, 5)\n",
      "     0          1          2          3          4\n",
      "0  ABW  12.170300 -70.280984  12.810300 -69.640984\n",
      "1  AFG  29.377200  60.517603  38.491068  74.889862\n",
      "2  AGO -18.038945  11.460979  -4.388063  24.087886\n",
      "3  AIA  18.061545 -63.639199  18.795119 -62.712545\n",
      "4  ALA  59.454158  19.083210  60.876650  21.345656\n",
      "5  ALB  39.644863  19.124609  42.661085  21.057433\n",
      "6  AND  42.428824   1.413578  42.655936   1.786384\n",
      "7  ANT  12.154454 -68.940593  12.154747 -68.940352\n",
      "Shape of 2020 DF: (246, 5), Count of Null values: 0\n"
     ]
    }
   ],
   "source": [
    "print(aoi.shape)\n",
    "print(aoi.head(8))\n",
    "\n",
    "shape = aoi.shape\n",
    "nullCount = sum(aoi.isna().sum())\n",
    "print(f\"Shape of 2020 DF: {shape}, Count of Null values: {nullCount}\".format(shape , nullCount ))"
   ]
  },
  {
   "cell_type": "code",
   "execution_count": 41,
   "id": "bab3b290-13fe-4141-a5f6-ec16480c2494",
   "metadata": {},
   "outputs": [
    {
     "data": {
      "text/plain": [
       "'ITA'"
      ]
     },
     "execution_count": 41,
     "metadata": {},
     "output_type": "execute_result"
    }
   ],
   "source": [
    "aoi[0][110]"
   ]
  },
  {
   "cell_type": "code",
   "execution_count": 25,
   "id": "c861a756-7c20-4a82-b03c-3a826ed0b69f",
   "metadata": {},
   "outputs": [
    {
     "name": "stdout",
     "output_type": "stream",
     "text": [
      "Processing:  ISR\n"
     ]
    },
    {
     "name": "stderr",
     "output_type": "stream",
     "text": [
      "/opt/conda/envs/eurodatacube-0.24.5/lib/python3.8/site-packages/xcube_sh/config.py:99: UserWarning: the geometry parameter is no longer supported, use bbox instead\n",
      "  warnings.warn('the geometry parameter is no longer supported, use bbox instead')\n",
      "<ipython-input-6-1f8855b22f30>:25: RuntimeWarning: Mean of empty slice\n",
      "  no2_values.append(np.nanmean(cube.NO2.isel(time=i).values[0]))\n"
     ]
    },
    {
     "name": "stdout",
     "output_type": "stream",
     "text": [
      "Shape of 2020 DF: (11, 2), Count of Null values: 2\n"
     ]
    },
    {
     "name": "stderr",
     "output_type": "stream",
     "text": [
      "/opt/conda/envs/eurodatacube-0.24.5/lib/python3.8/site-packages/xcube_sh/config.py:99: UserWarning: the geometry parameter is no longer supported, use bbox instead\n",
      "  warnings.warn('the geometry parameter is no longer supported, use bbox instead')\n"
     ]
    },
    {
     "name": "stdout",
     "output_type": "stream",
     "text": [
      "Shape of 2019 DF: (11, 2), Count of Null values: 0\n"
     ]
    }
   ],
   "source": [
    "import time \n",
    "\n",
    "idx=109\n",
    "start = time.time()\n",
    "aoi_no2 = list()\n",
    "\n",
    "# Check length of provided aoi list OR dataframe\n",
    "len_aoi = len(aoi)\n",
    "\n",
    "# Define how many AOIs you want to process. For the demo we will use only one \n",
    "\n",
    "aoi_dict = dict()\n",
    "aoi_dict['Country_BBox'] = aoi[0][idx]\n",
    "print(\"Processing: \", aoi_dict['Country_BBox'])\n",
    "        \n",
    "x1 = int(aoi[1][idx])  # degree \n",
    "y1 = int(aoi[2][idx])  # degree\n",
    "x2 = int(aoi[3][idx])  # degree\n",
    "y2 = int(aoi[4][idx])  # degree\n",
    "\n",
    "bbox = x1, y1, x2, y2\n",
    "timerange = ['2020-01-01', '2020-01-31']\n",
    "aoi_dict['NO2_2020'] = caculateNO2(bbox, timerange)\n",
    "shape = aoi_dict['NO2_2020'].shape\n",
    "nullCount = sum(aoi_dict['NO2_2020'].isna().sum())\n",
    "print(f\"Shape of 2020 DF: {shape}, Count of Null values: {nullCount}\".format(shape , nullCount ))    \n",
    "    \n",
    "timerange = ['2019-01-01', '2019-01-31']\n",
    "aoi_dict['NO2_2019'] = caculateNO2(bbox, timerange)\n",
    "shape = aoi_dict['NO2_2019'].shape\n",
    "nullCount = sum(aoi_dict['NO2_2019'].isna().sum())\n",
    "print(f\"Shape of 2019 DF: {shape}, Count of Null values: {nullCount}\".format(shape , nullCount ))\n",
    "\n",
    "aoi_no2.append(aoi_dict)\n",
    "\n",
    "end = time.time()\n",
    "#print(len(aoi_no2))\n",
    "\n"
   ]
  },
  {
   "cell_type": "code",
   "execution_count": 10,
   "id": "abf82139-c4d1-4d5b-a91f-1c1aff4baacf",
   "metadata": {},
   "outputs": [],
   "source": [
    "import pickle \n",
    "#print(len(aoi_no2))\n",
    "with open('aoi_list_no2.pkl', 'wb') as f:\n",
    "    pickle.dump(aoi_no2, f)"
   ]
  },
  {
   "cell_type": "code",
   "execution_count": 24,
   "id": "8d6f360b-8180-4633-a148-7fdd6b9f1b59",
   "metadata": {},
   "outputs": [
    {
     "data": {
      "text/plain": [
       "'ITA'"
      ]
     },
     "execution_count": 24,
     "metadata": {},
     "output_type": "execute_result"
    }
   ],
   "source": [
    "aoi[0][110]"
   ]
  },
  {
   "cell_type": "code",
   "execution_count": 11,
   "id": "4edab7c3-5acd-467a-b2cd-7968e059b5b6",
   "metadata": {},
   "outputs": [],
   "source": [
    "import matplotlib.pyplot as plt\n",
    "\n",
    "def plot_no2(idx):\n",
    "    \"\"\"\n",
    "    parameters:\n",
    "    idx: Input id for accessing NO2 data \n",
    "    \n",
    "    return:\n",
    "    None\n",
    "    line plots for NO2 (2020 vs 2019) are generated\n",
    "    \"\"\"\n",
    "\n",
    "    plt.plot(aoi_no2[idx]['NO2_2020']['DateTime'], aoi_no2[idx]['NO2_2020']['Mean NO2'],  label = 'NO2 levels (2020)')\n",
    "    plt.plot(aoi_no2[idx]['NO2_2020']['DateTime'], aoi_no2[idx]['NO2_2019']['Mean NO2'], label = 'NO2 levels (2019)')\n",
    "    plt.ylabel('NO2 Levels')\n",
    "    plt.xlabel('Month')\n",
    "    plt.title('NO2 levels for '+ aoi_no2[idx]['Country_BBox'])\n",
    "    plt.legend()\n",
    "    plt.savefig(aoi_no2[idx]['Country_BBox']+'.png')\n",
    "    plt.show()"
   ]
  },
  {
   "cell_type": "code",
   "execution_count": 12,
   "id": "142f6167-fc0e-4c31-a913-0eb1e1ff0447",
   "metadata": {},
   "outputs": [
    {
     "data": {
      "image/png": "[encoded data removed]",
      "text/plain": [
       "<Figure size 640x480 with 1 Axes>"
      ]
     },
     "metadata": {},
     "output_type": "display_data"
    }
   ],
   "source": [
    "plot_no2(0)"
   ]
  },
  {
   "cell_type": "markdown",
   "id": "7664cd3a-52ec-4615-b3a9-73e3b1216fd4",
   "metadata": {},
   "source": [
    "# CO"
   ]
  },
  {
   "cell_type": "code",
   "execution_count": 28,
   "id": "672d9bd1-266d-4bcb-979a-7a14e568d325",
   "metadata": {},
   "outputs": [],
   "source": [
    "def caculateCO(geometry, timerange):\n",
    "    \"\"\"\n",
    "    parameters:\n",
    "    geometry: BBox object to be passed. This contains the bounding box for the area of interest (AOI)\n",
    "    timerange: list giving the start & end of the time range format: YYYY-mm-dd\n",
    "    \n",
    "    return:\n",
    "    a dataframe with two columns: Mean NO2 and Timestamp\n",
    "    NO2 mean values for the time span between given timerange \n",
    "    \n",
    "    \"\"\"\n",
    "    cube_config = CubeConfig(dataset_name='S5PL2',\n",
    "                         band_names=['CO'],\n",
    "                         tile_size=[512, 512],\n",
    "                         geometry=geometry,\n",
    "                         spatial_res=abs(bbox[2]-bbox[0])/512,\n",
    "                         time_range= timerange,\n",
    "                         time_period='3D') \n",
    "    cube = open_cube(cube_config, **sh_credentials)\n",
    "\n",
    "    co_values = list() \n",
    "    timestamp = list()\n",
    "\n",
    "    for i in range(cube.time.shape[0]):\n",
    "        co_values.append(np.nanmean(cube.CO.isel(time=i).values[0]))\n",
    "        timestamp.append(cube.CO.isel(time=i).time.values)\n",
    "        \n",
    "    assert len(co_values) == len(timestamp)\n",
    "    \n",
    "    return pd.DataFrame({'DateTime': timestamp, 'Mean CO': co_values})"
   ]
  },
  {
   "cell_type": "code",
   "execution_count": 36,
   "id": "6b2c70be-4a83-4b63-b14d-3e051bd98962",
   "metadata": {},
   "outputs": [
    {
     "name": "stdout",
     "output_type": "stream",
     "text": [
      "Processing:  ITA\n"
     ]
    },
    {
     "name": "stderr",
     "output_type": "stream",
     "text": [
      "/opt/conda/envs/eurodatacube-0.24.5/lib/python3.8/site-packages/xcube_sh/config.py:99: UserWarning: the geometry parameter is no longer supported, use bbox instead\n",
      "  warnings.warn('the geometry parameter is no longer supported, use bbox instead')\n"
     ]
    },
    {
     "name": "stdout",
     "output_type": "stream",
     "text": [
      "Shape of 2020 DF: (11, 2), Count of Null values: 0\n"
     ]
    },
    {
     "name": "stderr",
     "output_type": "stream",
     "text": [
      "/opt/conda/envs/eurodatacube-0.24.5/lib/python3.8/site-packages/xcube_sh/config.py:99: UserWarning: the geometry parameter is no longer supported, use bbox instead\n",
      "  warnings.warn('the geometry parameter is no longer supported, use bbox instead')\n"
     ]
    },
    {
     "name": "stdout",
     "output_type": "stream",
     "text": [
      "Shape of 2019 DF: (11, 2), Count of Null values: 0\n"
     ]
    }
   ],
   "source": [
    "import time \n",
    "\n",
    "idx=110\n",
    "start = time.time()\n",
    "aoi_co = list()\n",
    "\n",
    "# Check length of provided aoi list OR dataframe\n",
    "len_aoi = len(aoi)\n",
    "\n",
    "# Define how many AOIs you want to process. For the demo we will use only one \n",
    "\n",
    "aoi_dict = dict()\n",
    "aoi_dict['Country_BBox'] = aoi[0][idx]\n",
    "print(\"Processing: \", aoi_dict['Country_BBox'])\n",
    "        \n",
    "x1 = int(aoi[1][idx])  # degree \n",
    "y1 = int(aoi[2][idx])  # degree\n",
    "x2 = int(aoi[3][idx])  # degree\n",
    "y2 = int(aoi[4][idx])  # degree\n",
    "\n",
    "bbox = x1, y1, x2, y2\n",
    "timerange = ['2020-01-01', '2020-01-31']\n",
    "aoi_dict['CO_2020'] = caculateCO(bbox, timerange)\n",
    "shape = aoi_dict['CO_2020'].shape\n",
    "nullCount = sum(aoi_dict['CO_2020'].isna().sum())\n",
    "print(f\"Shape of 2020 DF: {shape}, Count of Null values: {nullCount}\".format(shape , nullCount ))    \n",
    "    \n",
    "timerange = ['2019-01-01', '2019-01-31']\n",
    "aoi_dict['CO_2019'] = caculateCO(bbox, timerange)\n",
    "shape = aoi_dict['CO_2019'].shape\n",
    "nullCount = sum(aoi_dict['CO_2019'].isna().sum())\n",
    "print(f\"Shape of 2019 DF: {shape}, Count of Null values: {nullCount}\".format(shape , nullCount ))\n",
    "\n",
    "aoi_co.append(aoi_dict)\n",
    "\n",
    "end = time.time()\n",
    "#print(len(aoi_no2))\n",
    "\n"
   ]
  },
  {
   "cell_type": "code",
   "execution_count": 37,
   "id": "4ee5c3ff-1e22-43d1-a19d-7fe6391de18c",
   "metadata": {},
   "outputs": [],
   "source": [
    "import pickle \n",
    "#print(len(aoi_no2))\n",
    "with open('aoi_list_co.pkl', 'wb') as f:\n",
    "    pickle.dump(aoi_co, f)"
   ]
  },
  {
   "cell_type": "code",
   "execution_count": 38,
   "id": "2a14d163-358f-49d1-a26e-519854b71f9e",
   "metadata": {},
   "outputs": [],
   "source": [
    "import matplotlib.pyplot as plt\n",
    "\n",
    "def plot_co(idx):\n",
    "    \"\"\"\n",
    "    parameters:\n",
    "    idx: Input id for accessing NO2 data \n",
    "    \n",
    "    return:\n",
    "    None\n",
    "    line plots for NO2 (2020 vs 2019) are generated\n",
    "    \"\"\"\n",
    "\n",
    "    plt.plot(aoi_co[idx]['CO_2020']['DateTime'], aoi_co[idx]['CO_2020']['Mean CO'],  label = 'CO levels (2020)')\n",
    "    plt.plot(aoi_co[idx]['CO_2020']['DateTime'], aoi_co[idx]['CO_2019']['Mean CO'], label = 'CO levels (2019)')\n",
    "    plt.ylabel('CO Levels')\n",
    "    plt.xlabel('Month')\n",
    "    plt.title('CO levels for '+ aoi_co[idx]['Country_BBox'])\n",
    "    plt.legend()\n",
    "    plt.savefig(aoi_co[idx]['Country_BBox']+'.png')\n",
    "    plt.show()"
   ]
  },
  {
   "cell_type": "code",
   "execution_count": 39,
   "id": "522366fd-174d-4638-a7b3-238ea0770fee",
   "metadata": {},
   "outputs": [
    {
     "data": {
      "image/png": "[encoded data removed]",
      "text/plain": [
       "<Figure size 640x480 with 1 Axes>"
      ]
     },
     "metadata": {},
     "output_type": "display_data"
    }
   ],
   "source": [
    "plot_co(0)"
   ]
  },
  {
   "cell_type": "code",
   "execution_count": 40,
   "id": "7b77a3eb-3626-4f8a-b81c-567bb4002227",
   "metadata": {},
   "outputs": [
    {
     "data": {
      "text/plain": [
       "[{'Country_BBox': 'ITA',\n",
       "  'CO_2020':               DateTime   Mean CO\n",
       "  0  2020-01-02 12:00:00  0.030001\n",
       "  1  2020-01-05 12:00:00  0.035227\n",
       "  2  2020-01-08 12:00:00  0.031503\n",
       "  3  2020-01-11 12:00:00  0.033878\n",
       "  4  2020-01-14 12:00:00  0.030479\n",
       "  5  2020-01-17 12:00:00  0.031548\n",
       "  6  2020-01-20 12:00:00  0.028447\n",
       "  7  2020-01-23 12:00:00  0.030818\n",
       "  8  2020-01-26 12:00:00  0.030768\n",
       "  9  2020-01-29 12:00:00  0.031793\n",
       "  10 2020-02-01 12:00:00  0.030856,\n",
       "  'CO_2019':               DateTime   Mean CO\n",
       "  0  2019-01-02 12:00:00  0.030333\n",
       "  1  2019-01-05 12:00:00  0.028226\n",
       "  2  2019-01-08 12:00:00  0.028836\n",
       "  3  2019-01-11 12:00:00  0.027691\n",
       "  4  2019-01-14 12:00:00  0.028916\n",
       "  5  2019-01-17 12:00:00  0.029193\n",
       "  6  2019-01-20 12:00:00  0.030586\n",
       "  7  2019-01-23 12:00:00  0.034031\n",
       "  8  2019-01-26 12:00:00  0.032827\n",
       "  9  2019-01-29 12:00:00  0.032914\n",
       "  10 2019-02-01 12:00:00  0.033286}]"
      ]
     },
     "execution_count": 40,
     "metadata": {},
     "output_type": "execute_result"
    }
   ],
   "source": [
    "aoi_co"
   ]
  },
  {
   "cell_type": "code",
   "execution_count": null,
   "id": "bd611901-df66-4e9e-9246-9746cdf2d97e",
   "metadata": {},
   "outputs": [],
   "source": []
  }
 ],
 "metadata": {
  "kernelspec": {
   "display_name": "EDC 0.24.5 (Python3)",
   "language": "python",
   "name": "edc"
  },
  "language_info": {
   "codemirror_mode": {
    "name": "ipython",
    "version": 3
   },
   "file_extension": ".py",
   "mimetype": "text/x-python",
   "name": "python",
   "nbconvert_exporter": "python",
   "pygments_lexer": "ipython3",
   "version": "3.8.10"
  }
 },
 "nbformat": 4,
 "nbformat_minor": 5
}
