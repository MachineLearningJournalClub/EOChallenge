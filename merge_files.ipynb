{
 "cells": [
  {
   "cell_type": "code",
   "execution_count": 9,
   "id": "547a7a10-5e99-459f-b64f-bad5f9ca4c6f",
   "metadata": {},
   "outputs": [],
   "source": [
    "import json\n",
    "import pandas as pd\n",
    "import os\n",
    "import numpy as np\n",
    "import pickle"
   ]
  },
  {
   "cell_type": "code",
   "execution_count": 60,
   "id": "f227520b-2359-474a-899b-e26e2e2ed8b6",
   "metadata": {},
   "outputs": [],
   "source": [
    "variables=[\"CH4\",\"CO\",\"NO2\",\"O3\",\"SO2\"]"
   ]
  },
  {
   "cell_type": "code",
   "execution_count": 89,
   "id": "763cfd89-c0fa-4a08-a74b-6868ffd16add",
   "metadata": {},
   "outputs": [],
   "source": [
    "data_dict=dict()"
   ]
  },
  {
   "cell_type": "code",
   "execution_count": 90,
   "id": "d2c883fd-be83-4816-99f0-b6f4d90f4568",
   "metadata": {},
   "outputs": [],
   "source": [
    "for filename in os.listdir('data_countries/'):\n",
    "    if filename.endswith(\".pkl\"): \n",
    "        p=pd.read_pickle(\"data_countries/\"+filename)\n",
    "        for j in range(len(p)):\n",
    "            for key in p[j]:\n",
    "                dataframe=pd.DataFrame({\"time\":[p[j][key][\"time_bnds\"][0][i] for i in range(len(p[j][key][\"time_bnds\"][0]))],\\\n",
    "                        \"CH4\":[p[j][key][\"CH4\"][0][i] for i in range(len(p[j][key][\"CH4\"][0]))],\\\n",
    "                       \"CO\":[p[j][key][\"CO\"][0][i] for i in range(len(p[j][key][\"CO\"][0]))],\\\n",
    "                       \"NO2\":[p[j][key][\"NO2\"][0][i] for i in range(len(p[j][key][\"NO2\"][0]))],\\\n",
    "                        \"O3\":[p[j][key][\"O3\"][0][i] for i in range(len(p[j][key][\"O3\"][0]))],\\\n",
    "                        \"SO2\":[p[j][key][\"SO2\"][0][i] for i in range(len(p[j][key][\"SO2\"][0]))]})\n",
    "                for var in variables:\n",
    "                    dataframe[var].where(dataframe[var]<10**10,inplace=True)\n",
    "                    \n",
    "                data_dict[key]=dataframe"
   ]
  },
  {
   "cell_type": "code",
   "execution_count": 86,
   "id": "6076fc87-0ff8-466b-b3da-f801e530c637",
   "metadata": {},
   "outputs": [],
   "source": [
    "with open('2018_2020_O3_NO2_SO2_CO_CH4_all_with nan_3.pkl', 'wb') as f:\n",
    "    pickle.dump(data_dict, f)"
   ]
  },
  {
   "cell_type": "code",
   "execution_count": 91,
   "id": "9f09592b-5445-4d76-bf3b-b69da18f44c1",
   "metadata": {},
   "outputs": [],
   "source": [
    "for key in data_dict:\n",
    "    for var in variables:\n",
    "        data_dict[key][var].interpolate(method=\"cubic\",inplace=True)"
   ]
  },
  {
   "cell_type": "code",
   "execution_count": 98,
   "id": "cfe80aa9-89be-44b0-a496-9bea26f0d112",
   "metadata": {},
   "outputs": [],
   "source": [
    "for key in data_dict:\n",
    "    data_dict[key].dropna(inplace=True)"
   ]
  },
  {
   "cell_type": "code",
   "execution_count": 102,
   "id": "583bddef-6327-4d08-ac18-7f59993de2ba",
   "metadata": {},
   "outputs": [],
   "source": [
    "ln=[]\n",
    "for key in data_dict:\n",
    "    ln.append(len(data_dict[key]))"
   ]
  },
  {
   "cell_type": "code",
   "execution_count": 104,
   "id": "9b6f3c2c-e936-418a-a0f7-6526f1dd7719",
   "metadata": {},
   "outputs": [],
   "source": [
    "mn=np.min(ln)"
   ]
  },
  {
   "cell_type": "code",
   "execution_count": 108,
   "id": "5ae82ca8-6034-4367-ab10-ab0f2c6e9bd5",
   "metadata": {},
   "outputs": [],
   "source": [
    "for key in data_dict:\n",
    "     data_dict[key]=data_dict[key].iloc[len(data_dict[key])-mn:,:]"
   ]
  },
  {
   "cell_type": "code",
   "execution_count": 119,
   "id": "a5fe293e-31e1-44b0-84ba-0dfbf4c63d3d",
   "metadata": {},
   "outputs": [],
   "source": [
    "with open('2018_2020_O3_NO2_SO2_CO_CH4_all_3.pkl', 'wb') as f:\n",
    "    pickle.dump(data_dict, f)"
   ]
  },
  {
   "cell_type": "code",
   "execution_count": null,
   "id": "50aeaf94-962e-457a-8cda-3077495bc9f7",
   "metadata": {},
   "outputs": [],
   "source": []
  }
 ],
 "metadata": {
  "kernelspec": {
   "display_name": "EDC 0.24.5 (Python3)",
   "language": "python",
   "name": "edc"
  },
  "language_info": {
   "codemirror_mode": {
    "name": "ipython",
    "version": 3
   },
   "file_extension": ".py",
   "mimetype": "text/x-python",
   "name": "python",
   "nbconvert_exporter": "python",
   "pygments_lexer": "ipython3",
   "version": "3.8.10"
  }
 },
 "nbformat": 4,
 "nbformat_minor": 5
}
