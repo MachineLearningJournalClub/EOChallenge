{
 "cells": [
  {
   "cell_type": "code",
   "execution_count": 74,
   "id": "5af1bc8f-02d1-4471-9554-967283c5ddd8",
   "metadata": {},
   "outputs": [],
   "source": [
    "import pickle\n",
    "import json\n",
    "import os\n",
    "import pandas as pd\n",
    "import matplotlib.pyplot as plt\n",
    "from sklearn import preprocessing\n",
    "from numpy import nanmean\n",
    "import numpy as np\n",
    "from os import listdir\n",
    "from os.path import isfile, join"
   ]
  },
  {
   "cell_type": "markdown",
   "id": "288baf79-84d9-4d7f-8295-c3bc463bcd14",
   "metadata": {},
   "source": [
    "# Create CSV"
   ]
  },
  {
   "cell_type": "code",
   "execution_count": 75,
   "id": "14beb150-a330-4fac-8dca-d640658e9d85",
   "metadata": {},
   "outputs": [],
   "source": [
    "with open('2018_2020_O3_NO2_SO2_CO_CH4_all_with_nan_2.pkl', 'rb') as fp:\n",
    "    loaded = pickle.load(fp)"
   ]
  },
  {
   "cell_type": "code",
   "execution_count": 76,
   "id": "c3cb1dcd-e4d5-441f-86bc-3a4c7c3764c0",
   "metadata": {},
   "outputs": [],
   "source": [
    "onlyfiles = [f for f in listdir('pkl/') if isfile(join('pkl/', f))]\n"
   ]
  },
  {
   "cell_type": "code",
   "execution_count": 185,
   "id": "6e435da2-7060-463f-b3da-979a035e9fae",
   "metadata": {},
   "outputs": [],
   "source": [
    "#for files in onlyfiles:\n",
    "    #os.remove('pkl/'+files)"
   ]
  },
  {
   "cell_type": "code",
   "execution_count": null,
   "id": "4d549d35-fc7a-4111-8f1d-f03656b36635",
   "metadata": {},
   "outputs": [],
   "source": []
  },
  {
   "cell_type": "code",
   "execution_count": 77,
   "id": "eecf1cfa-b7ef-4bf4-b6de-c37e507db332",
   "metadata": {},
   "outputs": [],
   "source": [
    "df=pd.DataFrame(columns=['Country','CH4','O3','NO2','CO','SO2'])\n",
    "new_dict=dict()\n",
    "for file in onlyfiles:\n",
    "    with open('pkl/'+file, 'rb') as fp:\n",
    "        loaded = pickle.load(fp)\n",
    "    new_dict[file]={'CH4':np.nanmean(loaded['CH4']),\n",
    "             'O3':np.nanmean(loaded['O3']),\n",
    "             'NO2':np.nanmean(loaded['NO2']),\n",
    "             'CO':np.nanmean(loaded['CO']),\n",
    "             'SO2':np.nanmean(loaded['SO2'])}\n",
    "    df=df.append({'Country':file.replace('.pkl',''),'CH4':new_dict[file]['CH4'],'O3':new_dict[file]['O3'],'NO2':new_dict[file]['NO2'],'CO':new_dict[file]['CO'],'SO2':new_dict[file]['SO2']},ignore_index=True)"
   ]
  },
  {
   "cell_type": "code",
   "execution_count": 78,
   "id": "769e943a-cd4d-4dce-9e9b-afc58dd889ab",
   "metadata": {},
   "outputs": [
    {
     "data": {
      "text/html": [
       "<div>\n",
       "<style scoped>\n",
       "    .dataframe tbody tr th:only-of-type {\n",
       "        vertical-align: middle;\n",
       "    }\n",
       "\n",
       "    .dataframe tbody tr th {\n",
       "        vertical-align: top;\n",
       "    }\n",
       "\n",
       "    .dataframe thead th {\n",
       "        text-align: right;\n",
       "    }\n",
       "</style>\n",
       "<table border=\"1\" class=\"dataframe\">\n",
       "  <thead>\n",
       "    <tr style=\"text-align: right;\">\n",
       "      <th></th>\n",
       "      <th>Country</th>\n",
       "      <th>CH4</th>\n",
       "      <th>O3</th>\n",
       "      <th>NO2</th>\n",
       "      <th>CO</th>\n",
       "      <th>SO2</th>\n",
       "    </tr>\n",
       "  </thead>\n",
       "  <tbody>\n",
       "    <tr>\n",
       "      <th>0</th>\n",
       "      <td>IND</td>\n",
       "      <td>1892.050415</td>\n",
       "      <td>0.120283</td>\n",
       "      <td>0.000019</td>\n",
       "      <td>0.031400</td>\n",
       "      <td>0.000028</td>\n",
       "    </tr>\n",
       "    <tr>\n",
       "      <th>1</th>\n",
       "      <td>BGR</td>\n",
       "      <td>1861.557739</td>\n",
       "      <td>0.142715</td>\n",
       "      <td>0.000024</td>\n",
       "      <td>0.031539</td>\n",
       "      <td>0.000162</td>\n",
       "    </tr>\n",
       "    <tr>\n",
       "      <th>2</th>\n",
       "      <td>BEL</td>\n",
       "      <td>1844.500122</td>\n",
       "      <td>0.144630</td>\n",
       "      <td>0.000047</td>\n",
       "      <td>0.032446</td>\n",
       "      <td>0.000070</td>\n",
       "    </tr>\n",
       "    <tr>\n",
       "      <th>3</th>\n",
       "      <td>SWE</td>\n",
       "      <td>1815.773804</td>\n",
       "      <td>0.145403</td>\n",
       "      <td>0.000019</td>\n",
       "      <td>0.032285</td>\n",
       "      <td>0.000054</td>\n",
       "    </tr>\n",
       "    <tr>\n",
       "      <th>4</th>\n",
       "      <td>BGD</td>\n",
       "      <td>1889.079712</td>\n",
       "      <td>0.119807</td>\n",
       "      <td>0.000026</td>\n",
       "      <td>0.040474</td>\n",
       "      <td>0.000021</td>\n",
       "    </tr>\n",
       "    <tr>\n",
       "      <th>5</th>\n",
       "      <td>DNK</td>\n",
       "      <td>1844.251465</td>\n",
       "      <td>0.146441</td>\n",
       "      <td>0.000028</td>\n",
       "      <td>0.033064</td>\n",
       "      <td>0.000120</td>\n",
       "    </tr>\n",
       "    <tr>\n",
       "      <th>6</th>\n",
       "      <td>FIN</td>\n",
       "      <td>1807.469849</td>\n",
       "      <td>0.146421</td>\n",
       "      <td>0.000016</td>\n",
       "      <td>0.032316</td>\n",
       "      <td>-0.000050</td>\n",
       "    </tr>\n",
       "    <tr>\n",
       "      <th>7</th>\n",
       "      <td>BRA</td>\n",
       "      <td>1814.726440</td>\n",
       "      <td>0.119650</td>\n",
       "      <td>0.000009</td>\n",
       "      <td>0.028957</td>\n",
       "      <td>0.000030</td>\n",
       "    </tr>\n",
       "    <tr>\n",
       "      <th>8</th>\n",
       "      <td>IRN</td>\n",
       "      <td>1895.886230</td>\n",
       "      <td>0.128306</td>\n",
       "      <td>0.000024</td>\n",
       "      <td>0.028975</td>\n",
       "      <td>0.000118</td>\n",
       "    </tr>\n",
       "    <tr>\n",
       "      <th>9</th>\n",
       "      <td>USA</td>\n",
       "      <td>1849.505371</td>\n",
       "      <td>0.140567</td>\n",
       "      <td>0.000010</td>\n",
       "      <td>0.031015</td>\n",
       "      <td>0.000038</td>\n",
       "    </tr>\n",
       "    <tr>\n",
       "      <th>10</th>\n",
       "      <td>JPN</td>\n",
       "      <td>1850.255859</td>\n",
       "      <td>0.141881</td>\n",
       "      <td>0.000019</td>\n",
       "      <td>0.036835</td>\n",
       "      <td>0.000084</td>\n",
       "    </tr>\n",
       "    <tr>\n",
       "      <th>11</th>\n",
       "      <td>ESP</td>\n",
       "      <td>1858.853516</td>\n",
       "      <td>0.138621</td>\n",
       "      <td>0.000023</td>\n",
       "      <td>0.029178</td>\n",
       "      <td>0.000090</td>\n",
       "    </tr>\n",
       "    <tr>\n",
       "      <th>12</th>\n",
       "      <td>ITA</td>\n",
       "      <td>1858.791138</td>\n",
       "      <td>0.141076</td>\n",
       "      <td>0.000025</td>\n",
       "      <td>0.030680</td>\n",
       "      <td>0.000124</td>\n",
       "    </tr>\n",
       "    <tr>\n",
       "      <th>13</th>\n",
       "      <td>COL</td>\n",
       "      <td>1860.423096</td>\n",
       "      <td>0.115704</td>\n",
       "      <td>0.000010</td>\n",
       "      <td>0.032865</td>\n",
       "      <td>-0.000009</td>\n",
       "    </tr>\n",
       "    <tr>\n",
       "      <th>14</th>\n",
       "      <td>CAN</td>\n",
       "      <td>1841.413452</td>\n",
       "      <td>0.151191</td>\n",
       "      <td>0.000007</td>\n",
       "      <td>0.031700</td>\n",
       "      <td>0.000027</td>\n",
       "    </tr>\n",
       "    <tr>\n",
       "      <th>15</th>\n",
       "      <td>CZE</td>\n",
       "      <td>1842.057861</td>\n",
       "      <td>0.141693</td>\n",
       "      <td>0.000037</td>\n",
       "      <td>0.031879</td>\n",
       "      <td>0.000203</td>\n",
       "    </tr>\n",
       "    <tr>\n",
       "      <th>16</th>\n",
       "      <td>RUS</td>\n",
       "      <td>1846.382690</td>\n",
       "      <td>0.153554</td>\n",
       "      <td>0.000009</td>\n",
       "      <td>0.032279</td>\n",
       "      <td>0.000042</td>\n",
       "    </tr>\n",
       "    <tr>\n",
       "      <th>17</th>\n",
       "      <td>MEX</td>\n",
       "      <td>1862.667847</td>\n",
       "      <td>0.122033</td>\n",
       "      <td>0.000012</td>\n",
       "      <td>0.028373</td>\n",
       "      <td>0.000031</td>\n",
       "    </tr>\n",
       "    <tr>\n",
       "      <th>18</th>\n",
       "      <td>AUT</td>\n",
       "      <td>1845.095459</td>\n",
       "      <td>0.141143</td>\n",
       "      <td>0.000029</td>\n",
       "      <td>0.029284</td>\n",
       "      <td>0.000155</td>\n",
       "    </tr>\n",
       "  </tbody>\n",
       "</table>\n",
       "</div>"
      ],
      "text/plain": [
       "   Country          CH4        O3       NO2        CO       SO2\n",
       "0      IND  1892.050415  0.120283  0.000019  0.031400  0.000028\n",
       "1      BGR  1861.557739  0.142715  0.000024  0.031539  0.000162\n",
       "2      BEL  1844.500122  0.144630  0.000047  0.032446  0.000070\n",
       "3      SWE  1815.773804  0.145403  0.000019  0.032285  0.000054\n",
       "4      BGD  1889.079712  0.119807  0.000026  0.040474  0.000021\n",
       "5      DNK  1844.251465  0.146441  0.000028  0.033064  0.000120\n",
       "6      FIN  1807.469849  0.146421  0.000016  0.032316 -0.000050\n",
       "7      BRA  1814.726440  0.119650  0.000009  0.028957  0.000030\n",
       "8      IRN  1895.886230  0.128306  0.000024  0.028975  0.000118\n",
       "9      USA  1849.505371  0.140567  0.000010  0.031015  0.000038\n",
       "10     JPN  1850.255859  0.141881  0.000019  0.036835  0.000084\n",
       "11     ESP  1858.853516  0.138621  0.000023  0.029178  0.000090\n",
       "12     ITA  1858.791138  0.141076  0.000025  0.030680  0.000124\n",
       "13     COL  1860.423096  0.115704  0.000010  0.032865 -0.000009\n",
       "14     CAN  1841.413452  0.151191  0.000007  0.031700  0.000027\n",
       "15     CZE  1842.057861  0.141693  0.000037  0.031879  0.000203\n",
       "16     RUS  1846.382690  0.153554  0.000009  0.032279  0.000042\n",
       "17     MEX  1862.667847  0.122033  0.000012  0.028373  0.000031\n",
       "18     AUT  1845.095459  0.141143  0.000029  0.029284  0.000155"
      ]
     },
     "execution_count": 78,
     "metadata": {},
     "output_type": "execute_result"
    }
   ],
   "source": [
    "df"
   ]
  },
  {
   "cell_type": "code",
   "execution_count": 79,
   "id": "f940b7f5-d583-41d5-94b8-aa71c645d90e",
   "metadata": {},
   "outputs": [],
   "source": [
    "df1=df.filter(['CH4','O3','NO2','CO','SO2'])\n",
    "df1=(df1-df1.min())/(df1.max()-df1.min())"
   ]
  },
  {
   "cell_type": "code",
   "execution_count": 80,
   "id": "cfef17c8-2f59-48c8-81a1-1d7842a1e3f0",
   "metadata": {},
   "outputs": [],
   "source": [
    "df1=df1.join(df['Country'])"
   ]
  },
  {
   "cell_type": "code",
   "execution_count": 81,
   "id": "a86bb97e-964d-4c34-97e8-0e326cf86e2b",
   "metadata": {},
   "outputs": [],
   "source": [
    "df1.to_csv('csv/CH4.csv',columns=['Country','CH4'], index=False)\n",
    "df1.to_csv('csv/O3.csv',columns=['Country','O3'], index=False)\n",
    "df1.to_csv('csv/NO2.csv',columns=['Country','NO2'], index=False)\n",
    "df1.to_csv('csv/CO.csv',columns=['Country','CO'], index=False)\n",
    "df1.to_csv('csv/SO2.csv',columns=['Country','SO2'], index=False)"
   ]
  },
  {
   "cell_type": "code",
   "execution_count": null,
   "id": "f426339f-bff4-44e6-b03b-26f7b8823976",
   "metadata": {},
   "outputs": [],
   "source": []
  },
  {
   "cell_type": "code",
   "execution_count": null,
   "id": "e772525c-27e5-4871-b58e-a7408244eefc",
   "metadata": {},
   "outputs": [],
   "source": []
  },
  {
   "cell_type": "markdown",
   "id": "36bcfb67-100d-4ac5-a238-99c468db5e31",
   "metadata": {},
   "source": [
    "# Separate files"
   ]
  },
  {
   "cell_type": "code",
   "execution_count": 21,
   "id": "82abaf30-a366-4fa7-8345-e26815862817",
   "metadata": {},
   "outputs": [],
   "source": [
    "with open('pkl/Bgd_Ind_Irn_Jpn.pkl', 'rb') as fp:\n",
    "    to_sep = pickle.load(fp)"
   ]
  },
  {
   "cell_type": "code",
   "execution_count": 22,
   "id": "6cc56e07-84b8-4555-a021-c002e559f365",
   "metadata": {},
   "outputs": [],
   "source": [
    "dizionario=dict()\n",
    "for i in range(0,len(to_sep)):\n",
    "    for key in to_sep[i]:\n",
    "        dizionario[key]={\n",
    "            'CH4':to_sep[i][key]['CH4'][0],\n",
    "            'O3':to_sep[i][key]['O3'][0],\n",
    "            'NO2':to_sep[i][key]['NO2'][0],\n",
    "            'CO':to_sep[i][key]['CO'][0],\n",
    "            'SO2':to_sep[i][key]['SO2'][0]\n",
    "        }"
   ]
  },
  {
   "cell_type": "code",
   "execution_count": 23,
   "id": "8724ebe7-6649-46b1-8e2c-feeae0291e46",
   "metadata": {},
   "outputs": [],
   "source": [
    "for key in dizionario.keys():\n",
    "    dir='pkl/'+key+'.pkl'\n",
    "    with open(dir, 'wb') as f:\n",
    "        pickle.dump(dizionario[key], f)"
   ]
  },
  {
   "cell_type": "code",
   "execution_count": 191,
   "id": "60298490-75e2-4a98-a8a6-634c4256ecdb",
   "metadata": {},
   "outputs": [],
   "source": [
    "with open('pkl/ITA.pkl', 'rb') as fp:\n",
    "    to_sep = pickle.load(fp)"
   ]
  },
  {
   "cell_type": "code",
   "execution_count": 192,
   "id": "27e3d992-970d-4164-930b-7598ff747002",
   "metadata": {},
   "outputs": [
    {
     "data": {
      "text/plain": [
       "dict_keys(['CH4', 'O3', 'NO2', 'CO', 'SO2'])"
      ]
     },
     "execution_count": 192,
     "metadata": {},
     "output_type": "execute_result"
    }
   ],
   "source": [
    "to_sep.keys()"
   ]
  },
  {
   "cell_type": "code",
   "execution_count": 61,
   "id": "e65c8e60-6507-4109-a77a-463b1d7d39d2",
   "metadata": {},
   "outputs": [],
   "source": [
    "with open('pkl/ARG.pkl', 'rb') as fp:\n",
    "    ARG = pickle.load(fp)"
   ]
  },
  {
   "cell_type": "code",
   "execution_count": 65,
   "id": "69d1f3c8-80a8-4431-8a8a-a837e71586ec",
   "metadata": {},
   "outputs": [
    {
     "name": "stdout",
     "output_type": "stream",
     "text": [
      "100\n"
     ]
    }
   ],
   "source": [
    "for i in range(0,len(ARG['CO'])):\n",
    "    if ARG['CO'][i]>10^20:\n",
    "        print(i)"
   ]
  },
  {
   "cell_type": "code",
   "execution_count": 66,
   "id": "7e259263-3a98-45be-b24d-c91f7332d143",
   "metadata": {},
   "outputs": [
    {
     "data": {
      "text/plain": [
       "pandas.core.series.Series"
      ]
     },
     "execution_count": 66,
     "metadata": {},
     "output_type": "execute_result"
    }
   ],
   "source": [
    "type(ARG['CO'])"
   ]
  },
  {
   "cell_type": "code",
   "execution_count": null,
   "id": "bbaeec76-1864-4863-97a2-e4895d67bf4e",
   "metadata": {},
   "outputs": [],
   "source": []
  }
 ],
 "metadata": {
  "kernelspec": {
   "display_name": "EDC 0.24.5 (Python3)",
   "language": "python",
   "name": "edc"
  },
  "language_info": {
   "codemirror_mode": {
    "name": "ipython",
    "version": 3
   },
   "file_extension": ".py",
   "mimetype": "text/x-python",
   "name": "python",
   "nbconvert_exporter": "python",
   "pygments_lexer": "ipython3",
   "version": "3.8.10"
  }
 },
 "nbformat": 4,
 "nbformat_minor": 5
}
