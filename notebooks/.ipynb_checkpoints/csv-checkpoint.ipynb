{
 "cells": [
  {
   "cell_type": "code",
   "execution_count": 1,
   "metadata": {},
   "outputs": [],
   "source": [
    "import pickle\n",
    "import json\n",
    "import os\n",
    "import pandas as pd\n",
    "import matplotlib.pyplot as plt\n",
    "from sklearn import preprocessing\n",
    "from numpy import nanmean\n",
    "import numpy as np\n",
    "from os import listdir\n",
    "from os.path import isfile, join"
   ]
  },
  {
   "cell_type": "markdown",
   "metadata": {},
   "source": [
    "# Create CSV"
   ]
  },
  {
   "cell_type": "markdown",
   "metadata": {},
   "source": [
    "In order to visualise the data into the html file we need to create a csv. This file includes all the step required to do that."
   ]
  },
  {
   "cell_type": "code",
   "execution_count": 2,
   "metadata": {},
   "outputs": [],
   "source": [
    "name_file_with_nan=\"all_data_with_nan\""
   ]
  },
  {
   "cell_type": "code",
   "execution_count": 3,
   "metadata": {},
   "outputs": [],
   "source": [
    "with open('data/data_merged/'+name_file_with_nan+'.pkl', 'rb') as fp:\n",
    "    loaded = pickle.load(fp)"
   ]
  },
  {
   "cell_type": "code",
   "execution_count": 4,
   "metadata": {},
   "outputs": [],
   "source": [
    "for key in loaded:\n",
    "    loaded[key][\"time\"]=pd.to_datetime(loaded[key][\"time\"])"
   ]
  },
  {
   "cell_type": "code",
   "execution_count": 5,
   "metadata": {},
   "outputs": [],
   "source": [
    "start_date='2018-04-01'\n",
    "end_date='2019-12-29'\n"
   ]
  },
  {
   "cell_type": "code",
   "execution_count": 6,
   "metadata": {},
   "outputs": [],
   "source": [
    "mask = (loaded[\"FRA\"]['time'] > start_date) & (loaded[\"FRA\"]['time'] <= end_date)"
   ]
  },
  {
   "cell_type": "code",
   "execution_count": 7,
   "metadata": {},
   "outputs": [],
   "source": [
    "for key in loaded:\n",
    "    loaded[key] = loaded[key].loc[mask]"
   ]
  },
  {
   "cell_type": "code",
   "execution_count": 8,
   "metadata": {},
   "outputs": [],
   "source": [
    "with open('data/data_merged/'+name_file_with_nan+'.pkl', 'rb') as fp:\n",
    "    loaded2 = pickle.load(fp)"
   ]
  },
  {
   "cell_type": "code",
   "execution_count": 9,
   "metadata": {},
   "outputs": [],
   "source": [
    "for key in loaded:\n",
    "    loaded2[key][\"time\"]=pd.to_datetime(loaded2[key][\"time\"])"
   ]
  },
  {
   "cell_type": "code",
   "execution_count": 10,
   "metadata": {},
   "outputs": [],
   "source": [
    "start_date2='2019-12-29'\n",
    "end_date2='2020-12-27'\n"
   ]
  },
  {
   "cell_type": "code",
   "execution_count": 11,
   "metadata": {},
   "outputs": [],
   "source": [
    "mask = (loaded2[\"FRA\"]['time'] > start_date2) & (loaded2[\"FRA\"]['time'] <= end_date2)"
   ]
  },
  {
   "cell_type": "code",
   "execution_count": 12,
   "metadata": {},
   "outputs": [],
   "source": [
    "for key in loaded:\n",
    "    loaded2[key] = loaded2[key].loc[mask]"
   ]
  },
  {
   "cell_type": "code",
   "execution_count": 13,
   "metadata": {},
   "outputs": [],
   "source": [
    "df=pd.DataFrame(columns=['Country','CH4','O3','NO2','CO','SO2'])\n",
    "for key in loaded:\n",
    "    df=df.append({'Country':key,'CH4':np.nanmean(loaded[key]['CH4'])-np.nanmean(loaded2[key]['CH4']),'O3':np.nanmean(loaded[key]['O3'])-np.nanmean(loaded2[key]['O3']),\\\n",
    "              'NO2':np.nanmean(loaded[key]['NO2'])-np.nanmean(loaded2[key]['NO2']),'CO':np.nanmean(loaded[key]['CO'])-np.nanmean(loaded2[key]['CO']),'SO2':np.nanmean(loaded[key]['SO2'])-np.nanmean(loaded2[key]['SO2'])},ignore_index=True)"
   ]
  },
  {
   "cell_type": "code",
   "execution_count": 14,
   "metadata": {},
   "outputs": [],
   "source": [
    "df.to_csv('data/csv/CH4.csv',columns=['Country','CH4'], index=False)\n",
    "df.to_csv('data/csv/O3.csv',columns=['Country','O3'], index=False)\n",
    "df.to_csv('data/csv/NO2.csv',columns=['Country','NO2'], index=False)\n",
    "df.to_csv('data/csv/CO.csv',columns=['Country','CO'], index=False)\n",
    "df.to_csv('data/csv/SO2.csv',columns=['Country','SO2'], index=False)"
   ]
  },
  {
   "cell_type": "code",
   "execution_count": null,
   "metadata": {},
   "outputs": [],
   "source": []
  }
 ],
 "metadata": {
  "kernelspec": {
   "display_name": "Python 3",
   "language": "python",
   "name": "python3"
  },
  "language_info": {
   "codemirror_mode": {
    "name": "ipython",
    "version": 3
   },
   "file_extension": ".py",
   "mimetype": "text/x-python",
   "name": "python",
   "nbconvert_exporter": "python",
   "pygments_lexer": "ipython3",
   "version": "3.7.6"
  }
 },
 "nbformat": 4,
 "nbformat_minor": 5
}
