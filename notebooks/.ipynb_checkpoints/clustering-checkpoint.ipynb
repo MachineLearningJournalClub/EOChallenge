{
 "cells": [
  {
   "cell_type": "markdown",
   "metadata": {},
   "source": [
    "# Clustering"
   ]
  },
  {
   "cell_type": "code",
   "execution_count": 3,
   "metadata": {},
   "outputs": [
    {
     "name": "stdout",
     "output_type": "stream",
     "text": [
      "Collecting kneed\n",
      "  Downloading kneed-0.7.0-py2.py3-none-any.whl (9.4 kB)\n",
      "Requirement already satisfied: numpy>=1.14.2 in /opt/conda/envs/eurodatacube-0.24.5/lib/python3.8/site-packages (from kneed) (1.20.2)\n",
      "Requirement already satisfied: scipy in /opt/conda/envs/eurodatacube-0.24.5/lib/python3.8/site-packages (from kneed) (1.6.3)\n",
      "Requirement already satisfied: matplotlib in /opt/conda/envs/eurodatacube-0.24.5/lib/python3.8/site-packages (from kneed) (3.4.2)\n",
      "Requirement already satisfied: pyparsing>=2.2.1 in /opt/conda/envs/eurodatacube-0.24.5/lib/python3.8/site-packages (from matplotlib->kneed) (2.4.7)\n",
      "Requirement already satisfied: cycler>=0.10 in /opt/conda/envs/eurodatacube-0.24.5/lib/python3.8/site-packages (from matplotlib->kneed) (0.10.0)\n",
      "Requirement already satisfied: python-dateutil>=2.7 in /opt/conda/envs/eurodatacube-0.24.5/lib/python3.8/site-packages (from matplotlib->kneed) (2.8.1)\n",
      "Requirement already satisfied: kiwisolver>=1.0.1 in /opt/conda/envs/eurodatacube-0.24.5/lib/python3.8/site-packages (from matplotlib->kneed) (1.3.1)\n",
      "Requirement already satisfied: pillow>=6.2.0 in /opt/conda/envs/eurodatacube-0.24.5/lib/python3.8/site-packages (from matplotlib->kneed) (8.1.2)\n",
      "Requirement already satisfied: six in /opt/conda/envs/eurodatacube-0.24.5/lib/python3.8/site-packages (from cycler>=0.10->matplotlib->kneed) (1.16.0)\n",
      "Installing collected packages: kneed\n",
      "Successfully installed kneed-0.7.0\n"
     ]
    }
   ],
   "source": [
    "!pip install kneed"
   ]
  },
  {
   "cell_type": "code",
   "execution_count": 8,
   "metadata": {},
   "outputs": [
    {
     "name": "stdout",
     "output_type": "stream",
     "text": [
      "Collecting spacy\n",
      "  Downloading spacy-3.0.6-cp38-cp38-manylinux2014_x86_64.whl (13.0 MB)\n",
      "\u001b[K     |████████████████████████████████| 13.0 MB 27.8 MB/s eta 0:00:01\n",
      "\u001b[?25hRequirement already satisfied: tqdm<5.0.0,>=4.38.0 in /opt/conda/envs/eurodatacube-0.24.5/lib/python3.8/site-packages (from spacy) (4.60.0)\n",
      "Collecting spacy-legacy<3.1.0,>=3.0.4\n",
      "  Downloading spacy_legacy-3.0.6-py2.py3-none-any.whl (12 kB)\n",
      "Collecting pathy>=0.3.5\n",
      "  Downloading pathy-0.6.0-py3-none-any.whl (42 kB)\n",
      "\u001b[K     |████████████████████████████████| 42 kB 125 kB/s  eta 0:00:01\n",
      "\u001b[?25hCollecting thinc<8.1.0,>=8.0.3\n",
      "  Downloading thinc-8.0.6-cp38-cp38-manylinux_2_17_x86_64.manylinux2014_x86_64.whl (628 kB)\n",
      "\u001b[K     |████████████████████████████████| 628 kB 117.6 MB/s eta 0:00:01\n",
      "\u001b[?25hCollecting cymem<2.1.0,>=2.0.2\n",
      "  Downloading cymem-2.0.5-cp38-cp38-manylinux2014_x86_64.whl (35 kB)\n",
      "Collecting blis<0.8.0,>=0.4.0\n",
      "  Downloading blis-0.7.4-cp38-cp38-manylinux2014_x86_64.whl (9.8 MB)\n",
      "\u001b[K     |████████████████████████████████| 9.8 MB 112.2 MB/s eta 0:00:01\n",
      "\u001b[?25hRequirement already satisfied: numpy>=1.15.0 in /opt/conda/envs/eurodatacube-0.24.5/lib/python3.8/site-packages (from spacy) (1.20.2)\n",
      "Collecting murmurhash<1.1.0,>=0.28.0\n",
      "  Downloading murmurhash-1.0.5-cp38-cp38-manylinux2014_x86_64.whl (20 kB)\n",
      "Collecting srsly<3.0.0,>=2.4.1\n",
      "  Downloading srsly-2.4.1-cp38-cp38-manylinux2014_x86_64.whl (458 kB)\n",
      "\u001b[K     |████████████████████████████████| 458 kB 61.0 MB/s eta 0:00:01\n",
      "\u001b[?25hRequirement already satisfied: setuptools in /opt/conda/envs/eurodatacube-0.24.5/lib/python3.8/site-packages (from spacy) (49.6.0.post20210108)\n",
      "Collecting preshed<3.1.0,>=3.0.2\n",
      "  Downloading preshed-3.0.5-cp38-cp38-manylinux2014_x86_64.whl (130 kB)\n",
      "\u001b[K     |████████████████████████████████| 130 kB 67.3 MB/s eta 0:00:01\n",
      "\u001b[?25hCollecting typer<0.4.0,>=0.3.0\n",
      "  Downloading typer-0.3.2-py3-none-any.whl (21 kB)\n",
      "Collecting pydantic<1.8.0,>=1.7.1\n",
      "  Downloading pydantic-1.7.4-cp38-cp38-manylinux2014_x86_64.whl (12.3 MB)\n",
      "\u001b[K     |████████████████████████████████| 12.3 MB 45.1 MB/s eta 0:00:01\n",
      "\u001b[?25hCollecting wasabi<1.1.0,>=0.8.1\n",
      "  Downloading wasabi-0.8.2-py3-none-any.whl (23 kB)\n",
      "Requirement already satisfied: packaging>=20.0 in /opt/conda/envs/eurodatacube-0.24.5/lib/python3.8/site-packages (from spacy) (20.9)\n",
      "Requirement already satisfied: requests<3.0.0,>=2.13.0 in /opt/conda/envs/eurodatacube-0.24.5/lib/python3.8/site-packages (from spacy) (2.25.1)\n",
      "Requirement already satisfied: jinja2 in /opt/conda/envs/eurodatacube-0.24.5/lib/python3.8/site-packages (from spacy) (2.11.3)\n",
      "Collecting catalogue<2.1.0,>=2.0.3\n",
      "  Downloading catalogue-2.0.4-py3-none-any.whl (16 kB)\n",
      "Requirement already satisfied: pyparsing>=2.0.2 in /opt/conda/envs/eurodatacube-0.24.5/lib/python3.8/site-packages (from packaging>=20.0->spacy) (2.4.7)\n",
      "Collecting smart-open<6.0.0,>=5.0.0\n",
      "  Downloading smart_open-5.1.0-py3-none-any.whl (57 kB)\n",
      "\u001b[K     |████████████████████████████████| 57 kB 679 kB/s s eta 0:00:01\n",
      "\u001b[?25hRequirement already satisfied: idna<3,>=2.5 in /opt/conda/envs/eurodatacube-0.24.5/lib/python3.8/site-packages (from requests<3.0.0,>=2.13.0->spacy) (2.10)\n",
      "Requirement already satisfied: chardet<5,>=3.0.2 in /opt/conda/envs/eurodatacube-0.24.5/lib/python3.8/site-packages (from requests<3.0.0,>=2.13.0->spacy) (4.0.0)\n",
      "Requirement already satisfied: urllib3<1.27,>=1.21.1 in /opt/conda/envs/eurodatacube-0.24.5/lib/python3.8/site-packages (from requests<3.0.0,>=2.13.0->spacy) (1.26.4)\n",
      "Requirement already satisfied: certifi>=2017.4.17 in /opt/conda/envs/eurodatacube-0.24.5/lib/python3.8/site-packages (from requests<3.0.0,>=2.13.0->spacy) (2020.12.5)\n",
      "Requirement already satisfied: click<7.2.0,>=7.1.1 in /opt/conda/envs/eurodatacube-0.24.5/lib/python3.8/site-packages (from typer<0.4.0,>=0.3.0->spacy) (7.1.2)\n",
      "Requirement already satisfied: MarkupSafe>=0.23 in /opt/conda/envs/eurodatacube-0.24.5/lib/python3.8/site-packages (from jinja2->spacy) (1.1.1)\n",
      "Installing collected packages: murmurhash, cymem, catalogue, wasabi, typer, srsly, smart-open, pydantic, preshed, blis, thinc, spacy-legacy, pathy, spacy\n",
      "Successfully installed blis-0.7.4 catalogue-2.0.4 cymem-2.0.5 murmurhash-1.0.5 pathy-0.6.0 preshed-3.0.5 pydantic-1.7.4 smart-open-5.1.0 spacy-3.0.6 spacy-legacy-3.0.6 srsly-2.4.1 thinc-8.0.6 typer-0.3.2 wasabi-0.8.2\n"
     ]
    }
   ],
   "source": [
    "!pip install spacy"
   ]
  },
  {
   "cell_type": "code",
   "execution_count": 11,
   "metadata": {},
   "outputs": [],
   "source": [
    "import math\n",
    "import numpy as np\n",
    "import pandas as pd\n",
    "\n",
    "from kneed import KneeLocator\n",
    "\n",
    "from sklearn.cluster import DBSCAN, AgglomerativeClustering\n",
    "from sklearn.neighbors import NearestNeighbors\n",
    "from sklearn.decomposition import PCA\n",
    "\n",
    "\n",
    "import multiprocessing\n"
   ]
  },
  {
   "cell_type": "code",
   "execution_count": 271,
   "metadata": {},
   "outputs": [],
   "source": [
    "\n",
    "def get_cpu_number():\n",
    "    return multiprocessing.cpu_count()"
   ]
  },
  {
   "cell_type": "code",
   "execution_count": 272,
   "metadata": {},
   "outputs": [],
   "source": [
    "def dimensionality_reduction(vectors, n_reduction=2):\n",
    "    print('Number of dimensions is {}'.format(n_reduction))\n",
    "    pca = PCA(n_components=n_reduction, svd_solver='full')\n",
    "    pca.fit(vectors)\n",
    "    return pca.transform(vectors)"
   ]
  },
  {
   "cell_type": "code",
   "execution_count": 273,
   "metadata": {},
   "outputs": [],
   "source": [
    "def kneighbors(vectors):\n",
    "    \"\"\"\n",
    "    Calculates average distances for k-nearest neighbors\n",
    "    :return:\n",
    "    \"\"\"\n",
    "    k = round(math.sqrt(len(vectors)))\n",
    "    print('K-neighbours = {}'.format(k))\n",
    "    nbrs = NearestNeighbors(n_neighbors=k, n_jobs=-1, algorithm='auto').fit(vectors) #-1 means using all processors       \n",
    "    distances, indices = nbrs.kneighbors(vectors)\n",
    "    distances = [np.mean(d) for d in np.sort(distances, axis=0)]\n",
    "    return distances\n",
    "    \n",
    "def epsilon_search(vectors):\n",
    "    \"\"\"\n",
    "    Search epsilon for the DBSCAN clusterization\n",
    "    :return:\n",
    "    \"\"\"\n",
    "    distances=kneighbors(vectors)\n",
    "    kneedle = KneeLocator(distances, list(range(len(distances))), online=True)\n",
    "    epsilon = np.mean(list(kneedle.all_elbows))\n",
    "    if epsilon == 0.0:\n",
    "        epsilon = np.mean(distances)\n",
    "    return epsilon\n",
    "\n",
    "\n",
    "def dbscan(df,min_samples=5,pca=True):\n",
    "    \"\"\"\n",
    "    Execution of the DBSCAN clusterization algorithm.\n",
    "    Returns cluster labels\n",
    "    :return:\n",
    "    \"\"\"\n",
    "    cpu_number=get_cpu_number()\n",
    "    vectors=df['Vector'].values.tolist()\n",
    "    if pca:\n",
    "        vectors = dimensionality_reduction(vectors)\n",
    "    distances=kneighbors(vectors)\n",
    "    epsilon=epsilon_search(vectors)\n",
    "    cluster_labels = DBSCAN(eps=epsilon,\n",
    "    min_samples=min_samples,\n",
    "     n_jobs=cpu_number) \\\n",
    "    .fit_predict(vectors)\n",
    "    df['cluster'] = cluster_labels\n",
    "    print('DBSCAN finished with {} clusters'.format(len(set(cluster_labels))))\n",
    "    return pd.DataFrame.from_dict([item for item in df.groupby('cluster').apply(func=gb_regroup)], orient='columns').sort_values(by=['cluster_size'], ascending=False)\n",
    "    #return df\n",
    "\n",
    "def gb_regroup(gb):\n",
    "    #indices = [i for sublist in gb['cluster'].values for i in sublist]\n",
    "    states=[sublist for sublist in gb['State'].values]\n",
    "    size = len(states)    \n",
    "    return {'cluster_size': size,'state':states}"
   ]
  },
  {
   "cell_type": "code",
   "execution_count": 274,
   "metadata": {},
   "outputs": [
    {
     "data": {
      "text/plain": [
       "[array([0.67008292, 0.72511592, 0.51296091, 0.61591785, 0.39330138,\n",
       "        0.22364256, 0.17759284, 0.02739236, 0.76093684, 0.67899768]),\n",
       " array([0.45597819, 0.78106331, 0.98242905, 0.73853574, 0.32355317,\n",
       "        0.39674301, 0.89656203, 0.93764646, 0.4000217 , 0.28815555]),\n",
       " array([0.86648271, 0.56835921, 0.59024685, 0.63746128, 0.5057951 ,\n",
       "        0.92872724, 0.59922935, 0.96047515, 0.39362159, 0.31709045])]"
      ]
     },
     "execution_count": 274,
     "metadata": {},
     "output_type": "execute_result"
    }
   ],
   "source": [
    "l=[np.random.rand(10) for i in np.arange(100)]\n",
    "l[:3]"
   ]
  },
  {
   "cell_type": "code",
   "execution_count": 275,
   "metadata": {},
   "outputs": [
    {
     "data": {
      "text/plain": [
       "[array([0.28533164, 0.22794147, 0.7327608 , 0.84943759, 0.39375335,\n",
       "        0.17845318, 0.38323975, 0.73863453, 0.37833823, 0.80228078]),\n",
       " array([0.05732098, 0.7027165 , 0.10137313, 0.66803885, 0.8875465 ,\n",
       "        0.56129409, 0.40251905, 0.48516848, 0.4736999 , 0.8761976 ]),\n",
       " array([0.83864112, 0.73115569, 0.76582351, 0.9618685 , 0.4683687 ,\n",
       "        0.85834234, 0.6093806 , 0.43627257, 0.0848338 , 0.66359205])]"
      ]
     },
     "execution_count": 275,
     "metadata": {},
     "output_type": "execute_result"
    }
   ],
   "source": [
    "df['Vector'].values.tolist()[:3]"
   ]
  },
  {
   "cell_type": "code",
   "execution_count": 276,
   "metadata": {},
   "outputs": [],
   "source": [
    "p=[]\n",
    "for i in np.arange(100):\n",
    "    if(i<5):\n",
    "        p.append('italy')\n",
    "    else:\n",
    "        p.append('france')"
   ]
  },
  {
   "cell_type": "code",
   "execution_count": 277,
   "metadata": {},
   "outputs": [],
   "source": [
    "d={'State':p,'Vector':l}\n",
    "df=pd.DataFrame(d)"
   ]
  },
  {
   "cell_type": "code",
   "execution_count": 278,
   "metadata": {},
   "outputs": [
    {
     "data": {
      "text/html": [
       "<div>\n",
       "<style scoped>\n",
       "    .dataframe tbody tr th:only-of-type {\n",
       "        vertical-align: middle;\n",
       "    }\n",
       "\n",
       "    .dataframe tbody tr th {\n",
       "        vertical-align: top;\n",
       "    }\n",
       "\n",
       "    .dataframe thead th {\n",
       "        text-align: right;\n",
       "    }\n",
       "</style>\n",
       "<table border=\"1\" class=\"dataframe\">\n",
       "  <thead>\n",
       "    <tr style=\"text-align: right;\">\n",
       "      <th></th>\n",
       "      <th>State</th>\n",
       "      <th>Vector</th>\n",
       "    </tr>\n",
       "  </thead>\n",
       "  <tbody>\n",
       "    <tr>\n",
       "      <th>0</th>\n",
       "      <td>italy</td>\n",
       "      <td>[0.6700829187231775, 0.7251159211614744, 0.512...</td>\n",
       "    </tr>\n",
       "    <tr>\n",
       "      <th>1</th>\n",
       "      <td>italy</td>\n",
       "      <td>[0.4559781907057495, 0.7810633087254356, 0.982...</td>\n",
       "    </tr>\n",
       "    <tr>\n",
       "      <th>2</th>\n",
       "      <td>italy</td>\n",
       "      <td>[0.866482712956828, 0.5683592105705176, 0.5902...</td>\n",
       "    </tr>\n",
       "    <tr>\n",
       "      <th>3</th>\n",
       "      <td>italy</td>\n",
       "      <td>[0.7515944457528813, 0.932530642604771, 0.0393...</td>\n",
       "    </tr>\n",
       "    <tr>\n",
       "      <th>4</th>\n",
       "      <td>italy</td>\n",
       "      <td>[0.850251534835107, 0.8510008624621102, 0.7290...</td>\n",
       "    </tr>\n",
       "    <tr>\n",
       "      <th>...</th>\n",
       "      <td>...</td>\n",
       "      <td>...</td>\n",
       "    </tr>\n",
       "    <tr>\n",
       "      <th>95</th>\n",
       "      <td>france</td>\n",
       "      <td>[0.5868373903395457, 0.7975425968159987, 0.328...</td>\n",
       "    </tr>\n",
       "    <tr>\n",
       "      <th>96</th>\n",
       "      <td>france</td>\n",
       "      <td>[0.8685134630415027, 0.28509358383769623, 0.47...</td>\n",
       "    </tr>\n",
       "    <tr>\n",
       "      <th>97</th>\n",
       "      <td>france</td>\n",
       "      <td>[0.3184864781692527, 0.022088163490382007, 0.5...</td>\n",
       "    </tr>\n",
       "    <tr>\n",
       "      <th>98</th>\n",
       "      <td>france</td>\n",
       "      <td>[0.6428394258971026, 0.34896819446639615, 0.90...</td>\n",
       "    </tr>\n",
       "    <tr>\n",
       "      <th>99</th>\n",
       "      <td>france</td>\n",
       "      <td>[0.4314796946351478, 0.12949984450712937, 0.23...</td>\n",
       "    </tr>\n",
       "  </tbody>\n",
       "</table>\n",
       "<p>100 rows × 2 columns</p>\n",
       "</div>"
      ],
      "text/plain": [
       "     State                                             Vector\n",
       "0    italy  [0.6700829187231775, 0.7251159211614744, 0.512...\n",
       "1    italy  [0.4559781907057495, 0.7810633087254356, 0.982...\n",
       "2    italy  [0.866482712956828, 0.5683592105705176, 0.5902...\n",
       "3    italy  [0.7515944457528813, 0.932530642604771, 0.0393...\n",
       "4    italy  [0.850251534835107, 0.8510008624621102, 0.7290...\n",
       "..     ...                                                ...\n",
       "95  france  [0.5868373903395457, 0.7975425968159987, 0.328...\n",
       "96  france  [0.8685134630415027, 0.28509358383769623, 0.47...\n",
       "97  france  [0.3184864781692527, 0.022088163490382007, 0.5...\n",
       "98  france  [0.6428394258971026, 0.34896819446639615, 0.90...\n",
       "99  france  [0.4314796946351478, 0.12949984450712937, 0.23...\n",
       "\n",
       "[100 rows x 2 columns]"
      ]
     },
     "execution_count": 278,
     "metadata": {},
     "output_type": "execute_result"
    }
   ],
   "source": [
    "df"
   ]
  },
  {
   "cell_type": "code",
   "execution_count": 280,
   "metadata": {},
   "outputs": [
    {
     "name": "stdout",
     "output_type": "stream",
     "text": [
      "K-neighbours = 10\n",
      "K-neighbours = 10\n",
      "DBSCAN finished with 4 clusters\n"
     ]
    }
   ],
   "source": [
    "cl=dbscan(df,pca=False)   "
   ]
  },
  {
   "cell_type": "code",
   "execution_count": null,
   "metadata": {},
   "outputs": [],
   "source": []
  },
  {
   "cell_type": "code",
   "execution_count": null,
   "metadata": {},
   "outputs": [],
   "source": []
  }
 ],
 "metadata": {
  "kernelspec": {
   "display_name": "Python 3",
   "language": "python",
   "name": "python3"
  },
  "language_info": {
   "codemirror_mode": {
    "name": "ipython",
    "version": 3
   },
   "file_extension": ".py",
   "mimetype": "text/x-python",
   "name": "python",
   "nbconvert_exporter": "python",
   "pygments_lexer": "ipython3",
   "version": "3.8.3"
  }
 },
 "nbformat": 4,
 "nbformat_minor": 5
}
