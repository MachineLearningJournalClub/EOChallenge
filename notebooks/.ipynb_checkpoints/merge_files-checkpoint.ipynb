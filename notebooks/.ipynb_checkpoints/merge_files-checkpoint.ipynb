{
 "cells": [
  {
   "cell_type": "markdown",
   "metadata": {},
   "source": [
    "# Merge the files"
   ]
  },
  {
   "cell_type": "markdown",
   "metadata": {},
   "source": [
    "After retrieving the required dataset we need to merge it into a unique file to better use the data"
   ]
  },
  {
   "cell_type": "code",
   "execution_count": 9,
   "metadata": {},
   "outputs": [],
   "source": [
    "import json\n",
    "import pandas as pd\n",
    "import os\n",
    "import numpy as np\n",
    "import pickle"
   ]
  },
  {
   "cell_type": "code",
   "execution_count": 60,
   "metadata": {},
   "outputs": [],
   "source": [
    "variables=[\"CH4\",\"CO\",\"NO2\",\"O3\",\"SO2\"]"
   ]
  },
  {
   "cell_type": "code",
   "execution_count": 89,
   "metadata": {},
   "outputs": [],
   "source": [
    "data_dict=dict()"
   ]
  },
  {
   "cell_type": "code",
   "execution_count": 90,
   "metadata": {},
   "outputs": [],
   "source": [
    "for filename in os.listdir('data_countries/'):\n",
    "    if filename.endswith(\".pkl\"): \n",
    "        p=pd.read_pickle(\"data_countries/\"+filename)\n",
    "        for j in range(len(p)):\n",
    "            for key in p[j]:\n",
    "                dataframe=pd.DataFrame({\"time\":[p[j][key][\"time_bnds\"][0][i] for i in range(len(p[j][key][\"time_bnds\"][0]))],\\\n",
    "                        \"CH4\":[p[j][key][\"CH4\"][0][i] for i in range(len(p[j][key][\"CH4\"][0]))],\\\n",
    "                       \"CO\":[p[j][key][\"CO\"][0][i] for i in range(len(p[j][key][\"CO\"][0]))],\\\n",
    "                       \"NO2\":[p[j][key][\"NO2\"][0][i] for i in range(len(p[j][key][\"NO2\"][0]))],\\\n",
    "                        \"O3\":[p[j][key][\"O3\"][0][i] for i in range(len(p[j][key][\"O3\"][0]))],\\\n",
    "                        \"SO2\":[p[j][key][\"SO2\"][0][i] for i in range(len(p[j][key][\"SO2\"][0]))]})\n",
    "                for var in variables:\n",
    "                    dataframe[var].where(dataframe[var]<10**10,inplace=True)\n",
    "                    \n",
    "                data_dict[key]=dataframe"
   ]
  },
  {
   "cell_type": "code",
   "execution_count": 86,
   "metadata": {},
   "outputs": [],
   "source": [
    "with open('all_data_withnan.pkl', 'wb') as f:\n",
    "    pickle.dump(data_dict, f)"
   ]
  },
  {
   "cell_type": "markdown",
   "metadata": {},
   "source": [
    "Since the dataset has some nan values we interpolate the serie to replace them. Then we save this into another file. "
   ]
  },
  {
   "cell_type": "code",
   "execution_count": 91,
   "metadata": {},
   "outputs": [],
   "source": [
    "for key in data_dict:\n",
    "    for var in variables:\n",
    "        data_dict[key][var].interpolate(method=\"cubic\",inplace=True)"
   ]
  },
  {
   "cell_type": "code",
   "execution_count": 98,
   "metadata": {},
   "outputs": [],
   "source": [
    "for key in data_dict:\n",
    "    data_dict[key].dropna(inplace=True)"
   ]
  },
  {
   "cell_type": "code",
   "execution_count": 102,
   "metadata": {},
   "outputs": [],
   "source": [
    "ln=[]\n",
    "for key in data_dict:\n",
    "    ln.append(len(data_dict[key]))"
   ]
  },
  {
   "cell_type": "code",
   "execution_count": 104,
   "metadata": {},
   "outputs": [],
   "source": [
    "mn=np.min(ln)"
   ]
  },
  {
   "cell_type": "code",
   "execution_count": 108,
   "metadata": {},
   "outputs": [],
   "source": [
    "for key in data_dict:\n",
    "     data_dict[key]=data_dict[key].iloc[len(data_dict[key])-mn:,:]"
   ]
  },
  {
   "cell_type": "code",
   "execution_count": 119,
   "metadata": {},
   "outputs": [],
   "source": [
    "with open('all_data.pkl', 'wb') as f:\n",
    "    pickle.dump(data_dict, f)"
   ]
  },
  {
   "cell_type": "code",
   "execution_count": null,
   "metadata": {},
   "outputs": [],
   "source": []
  }
 ],
 "metadata": {
  "kernelspec": {
   "display_name": "Python 3",
   "language": "python",
   "name": "python3"
  },
  "language_info": {
   "codemirror_mode": {
    "name": "ipython",
    "version": 3
   },
   "file_extension": ".py",
   "mimetype": "text/x-python",
   "name": "python",
   "nbconvert_exporter": "python",
   "pygments_lexer": "ipython3",
   "version": "3.8.3"
  }
 },
 "nbformat": 4,
 "nbformat_minor": 5
}
