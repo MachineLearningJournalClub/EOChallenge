{
 "cells": [
  {
   "cell_type": "markdown",
   "metadata": {},
   "source": [
    "# Merge the files"
   ]
  },
  {
   "cell_type": "markdown",
   "metadata": {},
   "source": [
    "After retrieving the required dataset we need to merge it into a unique file to better use the data"
   ]
  },
  {
   "cell_type": "code",
   "execution_count": 1,
   "metadata": {},
   "outputs": [],
   "source": [
    "import json\n",
    "import pandas as pd\n",
    "import os\n",
    "import numpy as np\n",
    "import pickle"
   ]
  },
  {
   "cell_type": "code",
   "execution_count": 2,
   "metadata": {},
   "outputs": [],
   "source": [
    "variables=[\"CH4\",\"CO\",\"NO2\",\"O3\",\"SO2\"]\n",
    "name_file_with_nan=\"all_data_with_nan\"\n",
    "name_file_without_nan=\"all_data\""
   ]
  },
  {
   "cell_type": "code",
   "execution_count": 3,
   "metadata": {},
   "outputs": [],
   "source": [
    "data_dict=dict()"
   ]
  },
  {
   "cell_type": "code",
   "execution_count": 4,
   "metadata": {},
   "outputs": [],
   "source": [
    "for filename in os.listdir('data/data_countries/'):\n",
    "    if filename.endswith(\".pkl\"): \n",
    "        p=pd.read_pickle(\"data/data_countries/\"+filename)\n",
    "        for j in range(len(p)):\n",
    "            for key in p[j]:\n",
    "                dataframe=pd.DataFrame({\"time\":[p[j][key][\"time_bnds\"][0][i] for i in range(len(p[j][key][\"time_bnds\"][0]))],\\\n",
    "                        \"CH4\":[p[j][key][\"CH4\"][0][i] for i in range(len(p[j][key][\"CH4\"][0]))],\\\n",
    "                       \"CO\":[p[j][key][\"CO\"][0][i] for i in range(len(p[j][key][\"CO\"][0]))],\\\n",
    "                       \"NO2\":[p[j][key][\"NO2\"][0][i] for i in range(len(p[j][key][\"NO2\"][0]))],\\\n",
    "                        \"O3\":[p[j][key][\"O3\"][0][i] for i in range(len(p[j][key][\"O3\"][0]))],\\\n",
    "                        \"SO2\":[p[j][key][\"SO2\"][0][i] for i in range(len(p[j][key][\"SO2\"][0]))]})\n",
    "                for var in variables:\n",
    "                    dataframe[var].where(dataframe[var]<10**10,inplace=True)\n",
    "                    \n",
    "                data_dict[key]=dataframe"
   ]
  },
  {
   "cell_type": "code",
   "execution_count": 5,
   "metadata": {},
   "outputs": [],
   "source": [
    "with open('data/data_merged/'+name_file_with_nan+'.pkl', 'wb') as f:\n",
    "    pickle.dump(data_dict, f)"
   ]
  },
  {
   "cell_type": "markdown",
   "metadata": {},
   "source": [
    "Since the dataset has some nan values we interpolate the serie to replace them. Then we save this into another file. "
   ]
  },
  {
   "cell_type": "code",
   "execution_count": 6,
   "metadata": {},
   "outputs": [],
   "source": [
    "for key in data_dict:\n",
    "    for var in variables:\n",
    "        data_dict[key][var].interpolate(method=\"cubic\",inplace=True)"
   ]
  },
  {
   "cell_type": "code",
   "execution_count": 7,
   "metadata": {},
   "outputs": [],
   "source": [
    "p=dict()"
   ]
  },
  {
   "cell_type": "code",
   "execution_count": 8,
   "metadata": {},
   "outputs": [],
   "source": [
    "for key in data_dict:\n",
    "    p[key]=data_dict[key].dropna()"
   ]
  },
  {
   "cell_type": "code",
   "execution_count": 9,
   "metadata": {},
   "outputs": [],
   "source": [
    "mn=[]\n",
    "mx=[]\n",
    "for key in data_dict:\n",
    "        mn.append(p[key][\"time\"].index.min())\n",
    "        mx.append(p[key][\"time\"].index.max())"
   ]
  },
  {
   "cell_type": "code",
   "execution_count": 10,
   "metadata": {},
   "outputs": [],
   "source": [
    "for key in data_dict:\n",
    "     data_dict[key]=data_dict[key].iloc[np.max(mn):np.min(mx)-1,:]"
   ]
  },
  {
   "cell_type": "code",
   "execution_count": 11,
   "metadata": {},
   "outputs": [],
   "source": [
    "with open('data/data_merged/'+name_file_without_nan+'.pkl', 'wb') as f:\n",
    "    pickle.dump(data_dict, f)"
   ]
  }
 ],
 "metadata": {
  "kernelspec": {
   "display_name": "Python 3",
   "language": "python",
   "name": "python3"
  },
  "language_info": {
   "codemirror_mode": {
    "name": "ipython",
    "version": 3
   },
   "file_extension": ".py",
   "mimetype": "text/x-python",
   "name": "python",
   "nbconvert_exporter": "python",
   "pygments_lexer": "ipython3",
   "version": "3.7.6"
  }
 },
 "nbformat": 4,
 "nbformat_minor": 5
}
