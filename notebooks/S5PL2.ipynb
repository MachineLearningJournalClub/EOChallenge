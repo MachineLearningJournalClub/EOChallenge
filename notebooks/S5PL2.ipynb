{
 "cells": [
  {
   "cell_type": "code",
   "execution_count": 1,
   "id": "f38fa0be-967e-4c62-99a2-6ddcc117f5ee",
   "metadata": {},
   "outputs": [],
   "source": [
    "# Import required packages\n",
    "from xcube_sh.config import CubeConfig\n",
    "from xcube_sh.cube import open_cube\n",
    "from shapely import geometry\n",
    "from xcube_sh.sentinelhub import SentinelHub\n",
    "import xarray as xr\n",
    "import json\n",
    "import IPython.display\n",
    "import shapely.geometry\n",
    "\n",
    "from sentinelhub import BBox, WmsRequest, DataSource, SHConfig\n",
    "from functools import partial\n",
    "\n",
    "import numpy as np\n",
    "import pandas as pd\n",
    "\n",
    "from matplotlib import pyplot as plt"
   ]
  },
  {
   "cell_type": "code",
   "execution_count": 2,
   "id": "edba8e9a-88d0-40e1-b77f-f28f80ea6cb7",
   "metadata": {},
   "outputs": [],
   "source": [
    "# Set Sentinel Hub credentials\n",
    "import os\n",
    "sh_credentials = dict(client_id=os.environ['SH_CLIENT_ID'],\n",
    "                      client_secret=os.environ['SH_CLIENT_SECRET']) # This is only provided when the Oauth credentials are created\n",
    "\n",
    "# Sentinel-3 OLCI, Sentinel-3 SLSTR and Sentinel-5 layers are processed on different infrastructure, \n",
    "# which requires to used different end-point\n",
    "\n",
    "sh_credentials.update(api_url='https://creodias.sentinel-hub.com')"
   ]
  },
  {
   "cell_type": "code",
   "execution_count": 3,
   "id": "92ed6400-af7a-4c9f-9c98-6ad7e2dc9e93",
   "metadata": {},
   "outputs": [],
   "source": [
    "f=open('countries.json')\n",
    "data=json.load(f)\n",
    "final=dict()\n",
    "for i in range(0,len(data['features'])):\n",
    "    #print(data['features'][i]['id'])\n",
    "    final[data['features'][i]['id']]=data['features'][i]['geometry']['coordinates']"
   ]
  },
  {
   "cell_type": "code",
   "execution_count": 5,
   "id": "8e166bc2-aca5-4d6f-8655-1a22168664ce",
   "metadata": {},
   "outputs": [],
   "source": [
    "#EU_countries={'PER','VEN','CHL','ECU','GTM','BOL'}\n",
    "EU_countries={'DEU'}"
   ]
  },
  {
   "cell_type": "code",
   "execution_count": 6,
   "id": "0263a4dd-c05f-4818-9a6a-3643e3213aac",
   "metadata": {},
   "outputs": [],
   "source": [
    "aoi = dict()\n",
    "for country in EU_countries:\n",
    "    if len(final[country])!=1:\n",
    "        xs=0\n",
    "        ys=0\n",
    "        all_x=[]\n",
    "        all_y=[]\n",
    "        for i in range(0,len(final[country])):\n",
    "            state=geometry.Polygon(final[country][i][0])\n",
    "            geom = np.array(state.exterior.coords.xy)\n",
    "            xs = geom[0]\n",
    "            ys = geom[1]\n",
    "            all_x.extend(xs)\n",
    "            all_y.extend(ys)\n",
    "    else:\n",
    "        state=geometry.Polygon(final[country][0])\n",
    "        geom = np.array(state.exterior.coords.xy)\n",
    "        all_x = geom[0]\n",
    "        all_y = geom[1]\n",
    "    aoi[country]=(min(all_x),\n",
    "                    min(all_y),\n",
    "                    max(all_x),\n",
    "                    max(all_y))"
   ]
  },
  {
   "cell_type": "code",
   "execution_count": 7,
   "id": "5a468aed-94a6-4d9f-b86a-340da59f952f",
   "metadata": {},
   "outputs": [],
   "source": [
    "def caculate(geometry, timerange):\n",
    "    \n",
    "    cube_config = CubeConfig(dataset_name='S5PL2',\n",
    "                         band_names=['O3','NO2','SO2','CO','CH4'],\n",
    "                         tile_size=[512, 512],\n",
    "                         bbox=geometry,\n",
    "                         spatial_res=abs(geometry[2]-geometry[0])/512, # spatial resolution (approx. 20 m in degree)\n",
    "                         time_range= timerange,\n",
    "                         time_period='7D') \n",
    "    cube = open_cube(cube_config, **sh_credentials)\n",
    "    return cube.mean(dim=[\"lon\",\"lat\"],skipna=True).to_dataframe()\n"
   ]
  },
  {
   "cell_type": "code",
   "execution_count": 8,
   "id": "b0c4c294-99a1-4c9d-96bd-bfccd9e1ecb2",
   "metadata": {},
   "outputs": [
    {
     "name": "stdout",
     "output_type": "stream",
     "text": [
      "Processing:  DEU\n"
     ]
    },
    {
     "name": "stderr",
     "output_type": "stream",
     "text": [
      "/opt/conda/envs/eurodatacube-0.24.5/lib/python3.8/site-packages/dask/array/numpy_compat.py:39: RuntimeWarning: invalid value encountered in true_divide\n",
      "  x = np.divide(x1, x2, out)\n"
     ]
    },
    {
     "name": "stdout",
     "output_type": "stream",
     "text": [
      "Shape of 2018 DF: (288, 6), Count of Null values: 204\n"
     ]
    }
   ],
   "source": [
    "import time \n",
    "\n",
    "start = time.time()\n",
    "aoi_S5PL2 = list()\n",
    "\n",
    "# Check length of provided aoi list OR dataframe\n",
    "len_aoi = len(aoi)\n",
    "\n",
    "# Define how many AOIs you want to process. For the demo we will use only one \n",
    "counter = 6\n",
    "\n",
    "for i in aoi.keys():\n",
    "    aoi_dict = dict()\n",
    "    print(\"Processing: \", i)      \n",
    "    timerange = ['2018-04-01', '2020-12-31']\n",
    "    aoi_dict[str(i)] = caculate(aoi[str(i)], timerange)\n",
    "    shape = aoi_dict[str(i)].shape\n",
    "    nullCount = sum(aoi_dict[str(i)].isna().sum())\n",
    "    print(f\"Shape of 2018 DF: {shape}, Count of Null values: {nullCount}\".format(shape , nullCount ))\n",
    "\n",
    "    aoi_S5PL2.append(aoi_dict)\n",
    "\n",
    "end = time.time()"
   ]
  },
  {
   "cell_type": "code",
   "execution_count": 24,
   "id": "97dbfbcf-2b6d-4ee2-b8e4-e5e07f1a7d5d",
   "metadata": {},
   "outputs": [
    {
     "data": {
      "application/geo+json": {
       "coordinates": [
        [
         [
          18.480247,
          36.619987
         ],
         [
          18.480247,
          47.115393
         ],
         [
          6.749955,
          47.115393
         ],
         [
          6.749955,
          36.619987
         ],
         [
          18.480247,
          36.619987
         ]
        ]
       ],
       "type": "Polygon"
      },
      "text/plain": [
       "<IPython.display.GeoJSON object>"
      ]
     },
     "metadata": {
      "application/geo+json": {
       "expanded": false,
       "root": "root"
      }
     },
     "output_type": "display_data"
    }
   ],
   "source": [
    "IPython.display.GeoJSON(shapely.geometry.box(*aoi[\"ITA\"]).__geo_interface__)"
   ]
  }
 ],
 "metadata": {
  "kernelspec": {
   "display_name": "EDC 0.24.5 (Python3)",
   "language": "python",
   "name": "edc"
  },
  "language_info": {
   "codemirror_mode": {
    "name": "ipython",
    "version": 3
   },
   "file_extension": ".py",
   "mimetype": "text/x-python",
   "name": "python",
   "nbconvert_exporter": "python",
   "pygments_lexer": "ipython3",
   "version": "3.8.10"
  }
 },
 "nbformat": 4,
 "nbformat_minor": 5
}
