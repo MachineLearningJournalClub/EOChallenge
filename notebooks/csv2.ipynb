{
 "cells": [
  {
   "cell_type": "code",
   "execution_count": 2,
   "id": "5af1bc8f-02d1-4471-9554-967283c5ddd8",
   "metadata": {},
   "outputs": [],
   "source": [
    "import pickle\n",
    "import json\n",
    "import os\n",
    "import pandas as pd\n",
    "import matplotlib.pyplot as plt\n",
    "from sklearn import preprocessing\n",
    "from numpy import nanmean\n",
    "import numpy as np\n",
    "from os import listdir\n",
    "from os.path import isfile, join"
   ]
  },
  {
   "cell_type": "markdown",
   "id": "288baf79-84d9-4d7f-8295-c3bc463bcd14",
   "metadata": {},
   "source": [
    "# Create CSV"
   ]
  },
  {
   "cell_type": "code",
   "execution_count": 31,
   "id": "14beb150-a330-4fac-8dca-d640658e9d85",
   "metadata": {},
   "outputs": [],
   "source": [
    "with open('../2018_2020_O3_NO2_SO2_CO_CH4_all_with nan_3.pkl', 'rb') as fp:\n",
    "    loaded = pickle.load(fp)"
   ]
  },
  {
   "cell_type": "code",
   "execution_count": 77,
   "id": "eecf1cfa-b7ef-4bf4-b6de-c37e507db332",
   "metadata": {},
   "outputs": [],
   "source": []
  },
  {
   "cell_type": "code",
   "execution_count": 32,
   "id": "1dbf0069-d0f9-45ff-9992-be209959f651",
   "metadata": {},
   "outputs": [],
   "source": [
    "for key in loaded:\n",
    "    loaded[key][\"time\"]=pd.to_datetime(loaded[key][\"time\"])"
   ]
  },
  {
   "cell_type": "code",
   "execution_count": 33,
   "id": "769e943a-cd4d-4dce-9e9b-afc58dd889ab",
   "metadata": {},
   "outputs": [],
   "source": [
    "start_date='2018-04-01'\n",
    "end_date='2019-12-29'\n"
   ]
  },
  {
   "cell_type": "code",
   "execution_count": 34,
   "id": "eb422436-b76f-4ad7-af83-4304477d33c9",
   "metadata": {},
   "outputs": [],
   "source": [
    "mask = (loaded[\"FRA\"]['time'] > start_date) & (loaded[\"FRA\"]['time'] <= end_date)"
   ]
  },
  {
   "cell_type": "code",
   "execution_count": 37,
   "id": "5fb28b83-8dd1-41f5-8272-05f6bea53b0d",
   "metadata": {},
   "outputs": [],
   "source": [
    "for key in loaded:\n",
    "    loaded[key] = loaded[key].loc[mask]"
   ]
  },
  {
   "cell_type": "code",
   "execution_count": 41,
   "id": "376d4a8f-08a5-403d-907f-3cb2f7b4637f",
   "metadata": {},
   "outputs": [],
   "source": [
    "with open('../2018_2020_O3_NO2_SO2_CO_CH4_all_with nan_3.pkl', 'rb') as fp:\n",
    "    loaded2 = pickle.load(fp)"
   ]
  },
  {
   "cell_type": "code",
   "execution_count": 42,
   "id": "09cc813d-d033-406a-ad5d-f5b3d07958fc",
   "metadata": {},
   "outputs": [],
   "source": [
    "for key in loaded:\n",
    "    loaded2[key][\"time\"]=pd.to_datetime(loaded2[key][\"time\"])"
   ]
  },
  {
   "cell_type": "code",
   "execution_count": 45,
   "id": "cb62b5b3-3035-4703-9bce-90573d0ea43d",
   "metadata": {},
   "outputs": [],
   "source": [
    "start_date2='2019-12-29'\n",
    "end_date2='2020-12-27'\n"
   ]
  },
  {
   "cell_type": "code",
   "execution_count": 46,
   "id": "108529bf-ac34-4856-a409-9ae82b5eddc0",
   "metadata": {},
   "outputs": [],
   "source": [
    "mask = (loaded2[\"FRA\"]['time'] > start_date2) & (loaded2[\"FRA\"]['time'] <= end_date2)"
   ]
  },
  {
   "cell_type": "code",
   "execution_count": 47,
   "id": "1c7bc07f-1720-4af8-8328-0fcd7930f25f",
   "metadata": {},
   "outputs": [],
   "source": [
    "for key in loaded:\n",
    "    loaded2[key] = loaded2[key].loc[mask]"
   ]
  },
  {
   "cell_type": "code",
   "execution_count": 48,
   "id": "2130b3ad-e786-4451-a013-0dbd70eba61e",
   "metadata": {},
   "outputs": [],
   "source": [
    "df=pd.DataFrame(columns=['Country','CH4','O3','NO2','CO','SO2'])\n",
    "for key in loaded:\n",
    "    df=df.append({'Country':key,'CH4':np.nanmean(loaded[key]['CH4'])-np.nanmean(loaded2[key]['CH4']),'O3':np.nanmean(loaded[key]['O3'])-np.nanmean(loaded2[key]['O3']),\\\n",
    "              'NO2':np.nanmean(loaded[key]['NO2'])-np.nanmean(loaded2[key]['NO2']),'CO':np.nanmean(loaded[key]['CO'])-np.nanmean(loaded2[key]['CO']),'SO2':np.nanmean(loaded[key]['SO2'])-np.nanmean(loaded2[key]['SO2'])},ignore_index=True)"
   ]
  },
  {
   "cell_type": "code",
   "execution_count": 49,
   "id": "a86bb97e-964d-4c34-97e8-0e326cf86e2b",
   "metadata": {},
   "outputs": [],
   "source": [
    "df.to_csv('csv/CH4.csv',columns=['Country','CH4'], index=False)\n",
    "df.to_csv('csv/O3.csv',columns=['Country','O3'], index=False)\n",
    "df.to_csv('csv/NO2.csv',columns=['Country','NO2'], index=False)\n",
    "df.to_csv('csv/CO.csv',columns=['Country','CO'], index=False)\n",
    "df.to_csv('csv/SO2.csv',columns=['Country','SO2'], index=False)"
   ]
  },
  {
   "cell_type": "code",
   "execution_count": null,
   "id": "d21384f7-7619-4097-a600-bcaacb2e290b",
   "metadata": {},
   "outputs": [],
   "source": []
  }
 ],
 "metadata": {
  "kernelspec": {
   "display_name": "EDC 0.24.5 (Python3)",
   "language": "python",
   "name": "edc"
  },
  "language_info": {
   "codemirror_mode": {
    "name": "ipython",
    "version": 3
   },
   "file_extension": ".py",
   "mimetype": "text/x-python",
   "name": "python",
   "nbconvert_exporter": "python",
   "pygments_lexer": "ipython3",
   "version": "3.8.10"
  }
 },
 "nbformat": 4,
 "nbformat_minor": 5
}
